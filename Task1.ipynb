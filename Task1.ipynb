{
 "cells": [
  {
   "cell_type": "markdown",
   "metadata": {},
   "source": [
    "# **<span style=\"color:red\">Imports</span>**"
   ]
  },
  {
   "cell_type": "code",
   "execution_count": 1,
   "metadata": {},
   "outputs": [
    {
     "name": "stderr",
     "output_type": "stream",
     "text": [
      "Using backend: pytorch\n",
      "Other supported backends: tensorflow.compat.v1, tensorflow, jax, paddle.\n",
      "paddle supports more examples now and is recommended.\n"
     ]
    }
   ],
   "source": [
    "# Math\n",
    "import math\n",
    "\n",
    "# Handy arrays\n",
    "import numpy as np\n",
    "\n",
    "# DeepXDE\n",
    "import deepxde as dde\n",
    "import torch"
   ]
  },
  {
   "cell_type": "markdown",
   "metadata": {},
   "source": [
    "# <span style=\"color:red\">**Постановка**</span>"
   ]
  },
  {
   "cell_type": "markdown",
   "metadata": {},
   "source": [
    "<div>\n",
    "<img src=\"var-07.png\" width=\"600\"/>\n",
    "</div>"
   ]
  },
  {
   "cell_type": "markdown",
   "metadata": {},
   "source": [
    "# <span style=\"color:red\">**PINN**</span>"
   ]
  },
  {
   "cell_type": "markdown",
   "metadata": {},
   "source": [
    "## <span style=\"color:orange\">**Init**</span>"
   ]
  },
  {
   "cell_type": "markdown",
   "metadata": {},
   "source": [
    "### <span>**Функция вычисления невязок**</span>"
   ]
  },
  {
   "cell_type": "code",
   "execution_count": 2,
   "metadata": {},
   "outputs": [],
   "source": [
    "def pde(domain: torch.Tensor, u: torch.Tensor) -> torch.Tensor:\n",
    "    # d^2 u\n",
    "    # -----\n",
    "    # dx ^2\n",
    "    du_xx = dde.grad.hessian(u, domain, i=0, j=0)\n",
    "\n",
    "    # d^2 u\n",
    "    # -----\n",
    "    # dy ^2\n",
    "    du_yy = dde.grad.hessian(u, domain, i=1, j=1)\n",
    "\n",
    "    # du/dt\n",
    "    du_t = dde.grad.jacobian(u, domain, j=2)\n",
    "\n",
    "    # Equation\n",
    "    return ((du_t - 2.3 * (du_xx + du_yy))\n",
    "            - 2.5586 * torch.exp(-0.7 * domain[:, 2:3]) * torch.sin(0.9 * domain[:, 0:1])\n",
    "            - 13.5616 * torch.exp(-0.7 * domain[:, 2:3]) * torch.cos(2.2 * domain[:, 1:2]))"
   ]
  },
  {
   "cell_type": "markdown",
   "metadata": {},
   "source": [
    "### <span>**Геометрия**</span>"
   ]
  },
  {
   "cell_type": "code",
   "execution_count": 3,
   "metadata": {},
   "outputs": [],
   "source": [
    "# Boundaries\n",
    "x_left, x_right = 0, math.pi\n",
    "y_down, y_up = -math.pi, math.pi\n",
    "T0, T1 = 0, 1\n",
    "\n",
    "# X & Y geomentry (rectangle)\n",
    "geometry = dde.geometry.Rectangle(xmin=[x_left, y_down], xmax=[x_right, y_up])\n",
    "# Time segment [0, 1]\n",
    "time_domain = dde.geometry.TimeDomain(T0, T1)\n",
    "# Final domain\n",
    "domain = dde.geometry.GeometryXTime(geometry, time_domain)"
   ]
  },
  {
   "cell_type": "markdown",
   "metadata": {},
   "source": [
    "### <span>**Функции принадлежности точки границе**</span>"
   ]
  },
  {
   "cell_type": "code",
   "execution_count": 4,
   "metadata": {},
   "outputs": [],
   "source": [
    "# Left boundary\n",
    "def l_boundary(domain, on_boundary):\n",
    "    return on_boundary and dde.utils.isclose(domain[0], x_left)"
   ]
  },
  {
   "cell_type": "code",
   "execution_count": 5,
   "metadata": {},
   "outputs": [],
   "source": [
    "# Right boundary\n",
    "def r_boundary(domain, on_boundary):\n",
    "    return on_boundary and dde.utils.isclose(domain[0], x_right)"
   ]
  },
  {
   "cell_type": "code",
   "execution_count": null,
   "metadata": {},
   "outputs": [],
   "source": [
    "# Up boundary\n",
    "def up_boundary(domain, on_boundary):\n",
    "    return on_boundary and dde.utils.isclose(domain[1], y_up)"
   ]
  },
  {
   "cell_type": "code",
   "execution_count": null,
   "metadata": {},
   "outputs": [],
   "source": [
    "# Down boundary\n",
    "def down_boundary(domain, on_boundary):\n",
    "    return on_boundary and dde.utils.isclose(domain[1], y_down)"
   ]
  },
  {
   "cell_type": "code",
   "execution_count": 8,
   "metadata": {},
   "outputs": [],
   "source": [
    "# Initial boundary\n",
    "def initial_boundary(domain, on_initial):\n",
    "    return on_initial and dde.utils.isclose(domain[2], T0)"
   ]
  },
  {
   "cell_type": "markdown",
   "metadata": {},
   "source": [
    "### <span>**Граничные и начальные условия**</span>"
   ]
  },
  {
   "cell_type": "code",
   "execution_count": null,
   "metadata": {},
   "outputs": [],
   "source": [
    "# Boundary condition left\n",
    "def bc_l_func(domain):\n",
    "    if (isinstance(domain, torch.Tensor)):\n",
    "        t = domain[:, 2:3]\n",
    "    # Convert to numpy array to CUDA tensor\n",
    "    else:\n",
    "        t = torch.from_numpy(domain[:, 2:3]).to(device=\"cuda\")\n",
    "\n",
    "    return - 1.98 * torch.exp(-0.7 * t)\n",
    "\n",
    "bc_l = dde.NeumannBC(domain, bc_l_func, l_boundary)"
   ]
  },
  {
   "cell_type": "code",
   "execution_count": null,
   "metadata": {},
   "outputs": [],
   "source": [
    "# Boundary condition right\n",
    "def bc_r_func(domain):\n",
    "    if (isinstance(domain, torch.Tensor)):\n",
    "        y = domain[:, 1:2]\n",
    "        t = domain[:, 2:3]\n",
    "    # Convert to numpy array to CUDA tensor\n",
    "    else:\n",
    "        y = torch.from_numpy(domain[:, 1:2]).to(device=\"cuda\")\n",
    "        t = torch.from_numpy(domain[:, 2:3]).to(device=\"cuda\")\n",
    "\n",
    "    return 1.3 + 1.3 * torch.exp(-0.7 * t) * torch.cos(2.2 * y) - 0.55 * (1 - math.sqrt(5)) * torch.exp(-0.7 * t)\n",
    "\n",
    "bc_r = dde.DirichletBC(domain, bc_r_func, r_boundary)"
   ]
  },
  {
   "cell_type": "code",
   "execution_count": null,
   "metadata": {},
   "outputs": [],
   "source": [
    "# Boundary condition up\n",
    "def bc_up_func(domain):\n",
    "    if (isinstance(domain, torch.Tensor)):\n",
    "        t = domain[:, 2:3]\n",
    "    # Convert to numpy array to CUDA tensor\n",
    "    else:\n",
    "        t = torch.from_numpy(domain[:, 2:3]).to(device=\"cuda\")\n",
    "        \n",
    "    return - 2.86 * math.sqrt(0.625 - math.sqrt(5)/8) * torch.exp(-0.7 * t)\n",
    "\n",
    "bc_up = dde.NeumannBC(domain, bc_up_func, up_boundary)"
   ]
  },
  {
   "cell_type": "code",
   "execution_count": null,
   "metadata": {},
   "outputs": [],
   "source": [
    "# Boundary condition down\n",
    "def bc_down_func(domain):\n",
    "    if (isinstance(domain, torch.Tensor)):\n",
    "        x = domain[:, 0:1]\n",
    "        t = domain[:, 2:3]\n",
    "    # Convert to numpy array to CUDA tensor\n",
    "    else:\n",
    "        x = torch.from_numpy(domain[:, 0:1]).to(device=\"cuda\")\n",
    "        t = torch.from_numpy(domain[:, 2:3]).to(device=\"cuda\")\n",
    "\n",
    "    return 1.3 + 2.2 * torch.exp(-0.7 * t) * torch.sin(0.9 * x) + 0.875 * (1 + math.sqrt(5)) * torch.exp(-0.7 * t)\n",
    "\n",
    "bc_down = dde.DirichletBC(domain, bc_down_func, down_boundary)"
   ]
  },
  {
   "cell_type": "code",
   "execution_count": null,
   "metadata": {},
   "outputs": [],
   "source": [
    "# Constant to train\n",
    "# Initial values: 7.0, 4.0, -8.0, -12.0\n",
    "c_lambda = dde.Variable(7.0)"
   ]
  },
  {
   "cell_type": "code",
   "execution_count": null,
   "metadata": {},
   "outputs": [],
   "source": [
    "# Initial condition\n",
    "def ic_func(domain):\n",
    "    if (isinstance(domain, torch.Tensor)):\n",
    "        x = domain[:, 0:1]\n",
    "        y = domain[:, 1:2]\n",
    "    # Convert to numpy array to CUDA tensor\n",
    "    else:\n",
    "        x = torch.from_numpy(domain[:, 0:1]).to(device=\"cuda\")\n",
    "        y = torch.from_numpy(domain[:, 1:2]).to(device=\"cuda\")\n",
    "\n",
    "    return c_lambda + 2.2 * torch.sin(0.9 * x) + 1.3 * torch.cos(2.2 * y)\n",
    "\n",
    "ic = dde.IC(domain, ic_func, initial_boundary)"
   ]
  },
  {
   "cell_type": "code",
   "execution_count": 111,
   "metadata": {},
   "outputs": [],
   "source": [
    "# Observed data\n",
    "data = np.load('var-07.npz')\n",
    "ob_domain = data['xyt']\n",
    "ob_u = data['u']\n",
    "observed_u = dde.icbc.PointSetBC(ob_domain, ob_u, component=0)"
   ]
  },
  {
   "cell_type": "markdown",
   "metadata": {},
   "source": [
    "### <span>**Система уравнений**</span>"
   ]
  },
  {
   "cell_type": "code",
   "execution_count": 112,
   "metadata": {},
   "outputs": [
    {
     "name": "stdout",
     "output_type": "stream",
     "text": [
      "Warning: 244 points required, but 276 points sampled.\n",
      "Warning: 3000 points required, but 3588 points sampled.\n"
     ]
    }
   ],
   "source": [
    "data = dde.data.TimePDE(domain, pde, [bc_l, bc_r, bc_up, bc_down, ic, observed_u],\n",
    "                        num_domain=3000, num_boundary=1000, num_initial=2000,\n",
    "                        anchors=ob_domain,\n",
    "                        num_test=3000)"
   ]
  },
  {
   "cell_type": "markdown",
   "metadata": {},
   "source": [
    "### <span>**Нейронная сеть**</span>"
   ]
  },
  {
   "cell_type": "code",
   "execution_count": 113,
   "metadata": {},
   "outputs": [],
   "source": [
    "layer_size = [3] + [50] * 5 + [1]\n",
    "net = dde.maps.FNN(layer_size, \"tanh\", \"Glorot uniform\")"
   ]
  },
  {
   "cell_type": "markdown",
   "metadata": {},
   "source": [
    "### <span>**Обёртка нейронной сети**</span>"
   ]
  },
  {
   "cell_type": "code",
   "execution_count": 114,
   "metadata": {},
   "outputs": [
    {
     "name": "stdout",
     "output_type": "stream",
     "text": [
      "Compiling model...\n",
      "'compile' took 0.000232 s\n",
      "\n"
     ]
    }
   ],
   "source": [
    "# Init and compile model\n",
    "model = dde.Model(data, net)\n",
    "model.compile(\"adam\", lr=1e-3, external_trainable_variables=[c_lambda])"
   ]
  },
  {
   "cell_type": "code",
   "execution_count": 115,
   "metadata": {},
   "outputs": [],
   "source": [
    "# Callbacks\n",
    "variable = dde.callbacks.VariableValue(c_lambda, period=2000)\n",
    "pde_resampler = dde.callbacks.PDEPointResampler(period=1000)"
   ]
  },
  {
   "cell_type": "code",
   "execution_count": 116,
   "metadata": {},
   "outputs": [
    {
     "name": "stdout",
     "output_type": "stream",
     "text": [
      "Training model...\n",
      "\n",
      "Warning: Rectangle boundary_normal called on vertices. You may use PDE(..., exclusions=...) to exclude the vertices.\n",
      "Warning: Rectangle boundary_normal called on vertices. You may use PDE(..., exclusions=...) to exclude the vertices.\n",
      "Step      Train loss                                                                Test loss                                                                 Test metric\n",
      "0         [3.06e+01, 1.45e+00, 4.84e+00, 2.81e-01, 1.44e+01, 7.83e+01, 5.84e+00]    [5.35e+01, 1.45e+00, 4.84e+00, 2.81e-01, 1.44e+01, 7.83e+01, 5.84e+00]    []  \n",
      "0 [7.00e+00]\n",
      "1000      [2.60e+00, 4.35e-01, 5.72e-01, 4.18e-01, 2.58e-01, 5.51e-01, 1.34e+00]    [4.73e+01, 4.35e-01, 5.72e-01, 4.18e-01, 2.58e-01, 5.51e-01, 1.34e+00]    []  \n",
      "Warning: Rectangle boundary_normal called on vertices. You may use PDE(..., exclusions=...) to exclude the vertices.\n",
      "Warning: Rectangle boundary_normal called on vertices. You may use PDE(..., exclusions=...) to exclude the vertices.\n",
      "2000      [2.63e+00, 3.00e-01, 3.73e-01, 3.31e-01, 1.95e-01, 3.52e-01, 1.33e+00]    [4.23e+01, 3.00e-01, 3.73e-01, 3.31e-01, 1.95e-01, 3.52e-01, 1.33e+00]    []  \n",
      "2000 [6.38e+00]\n",
      "Warning: Rectangle boundary_normal called on vertices. You may use PDE(..., exclusions=...) to exclude the vertices.\n",
      "Warning: Rectangle boundary_normal called on vertices. You may use PDE(..., exclusions=...) to exclude the vertices.\n",
      "3000      [1.96e+00, 2.51e-01, 2.69e-01, 2.01e-01, 1.78e-01, 2.28e-01, 1.05e+00]    [4.48e+01, 2.51e-01, 2.69e-01, 2.01e-01, 1.78e-01, 2.28e-01, 1.05e+00]    []  \n",
      "4000      [1.84e+00, 2.79e-01, 2.42e-01, 1.78e-01, 3.30e-01, 1.55e-01, 1.02e+00]    [4.35e+01, 2.79e-01, 2.42e-01, 1.78e-01, 3.30e-01, 1.55e-01, 1.02e+00]    []  \n",
      "4000 [5.46e+00]\n",
      "Warning: Rectangle boundary_normal called on vertices. You may use PDE(..., exclusions=...) to exclude the vertices.\n",
      "Warning: Rectangle boundary_normal called on vertices. You may use PDE(..., exclusions=...) to exclude the vertices.\n",
      "5000      [1.68e+00, 1.99e-01, 2.08e-01, 8.58e-02, 1.73e-01, 1.40e-01, 1.02e+00]    [3.89e+01, 1.99e-01, 2.08e-01, 8.58e-02, 1.73e-01, 1.40e-01, 1.02e+00]    []  \n",
      "Warning: Rectangle boundary_normal called on vertices. You may use PDE(..., exclusions=...) to exclude the vertices.\n",
      "Warning: Rectangle boundary_normal called on vertices. You may use PDE(..., exclusions=...) to exclude the vertices.\n",
      "6000      [1.48e+00, 1.76e-01, 1.55e-01, 1.31e-01, 1.33e-01, 9.89e-02, 8.45e-01]    [3.55e+01, 1.76e-01, 1.55e-01, 1.31e-01, 1.33e-01, 9.89e-02, 8.45e-01]    []  \n",
      "6000 [4.11e+00]\n",
      "Warning: Rectangle boundary_normal called on vertices. You may use PDE(..., exclusions=...) to exclude the vertices.\n",
      "Warning: Rectangle boundary_normal called on vertices. You may use PDE(..., exclusions=...) to exclude the vertices.\n",
      "7000      [1.32e+00, 1.60e-01, 1.29e-01, 1.19e-01, 1.19e-01, 7.45e-02, 8.12e-01]    [3.14e+01, 1.60e-01, 1.29e-01, 1.19e-01, 1.19e-01, 7.45e-02, 8.12e-01]    []  \n",
      "8000      [1.60e+00, 1.85e-01, 1.52e-01, 1.09e-01, 1.27e-01, 9.39e-02, 7.90e-01]    [3.80e+01, 1.85e-01, 1.52e-01, 1.09e-01, 1.27e-01, 9.39e-02, 7.90e-01]    []  \n",
      "8000 [2.33e+00]\n",
      "Warning: Rectangle boundary_normal called on vertices. You may use PDE(..., exclusions=...) to exclude the vertices.\n",
      "Warning: Rectangle boundary_normal called on vertices. You may use PDE(..., exclusions=...) to exclude the vertices.\n",
      "9000      [1.07e+00, 1.28e-01, 9.81e-02, 1.03e-01, 1.03e-01, 5.14e-02, 7.40e-01]    [2.36e+01, 1.28e-01, 9.81e-02, 1.03e-01, 1.03e-01, 5.14e-02, 7.40e-01]    []  \n",
      "Warning: Rectangle boundary_normal called on vertices. You may use PDE(..., exclusions=...) to exclude the vertices.\n",
      "Warning: Rectangle boundary_normal called on vertices. You may use PDE(..., exclusions=...) to exclude the vertices.\n",
      "10000     [9.15e-01, 1.15e-01, 9.36e-02, 1.20e-01, 1.09e-01, 4.12e-02, 7.58e-01]    [2.12e+01, 1.15e-01, 9.36e-02, 1.20e-01, 1.09e-01, 4.12e-02, 7.58e-01]    []  \n",
      "10000 [1.11e+00]\n",
      "Warning: Rectangle boundary_normal called on vertices. You may use PDE(..., exclusions=...) to exclude the vertices.\n",
      "Warning: Rectangle boundary_normal called on vertices. You may use PDE(..., exclusions=...) to exclude the vertices.\n",
      "11000     [8.47e-01, 1.13e-01, 9.25e-02, 8.04e-02, 9.20e-02, 3.53e-02, 7.07e-01]    [1.95e+01, 1.13e-01, 9.25e-02, 8.04e-02, 9.20e-02, 3.53e-02, 7.07e-01]    []  \n",
      "12000     [1.35e+00, 1.61e-01, 1.05e-01, 1.31e-01, 1.20e-01, 5.60e-02, 6.93e-01]    [3.01e+01, 1.61e-01, 1.05e-01, 1.31e-01, 1.20e-01, 5.60e-02, 6.93e-01]    []  \n",
      "12000 [-6.05e-01]\n",
      "Warning: Rectangle boundary_normal called on vertices. You may use PDE(..., exclusions=...) to exclude the vertices.\n",
      "Warning: Rectangle boundary_normal called on vertices. You may use PDE(..., exclusions=...) to exclude the vertices.\n",
      "13000     [6.76e-01, 9.65e-02, 1.21e-01, 1.13e-01, 7.97e-02, 5.26e-02, 6.58e-01]    [1.50e+01, 9.65e-02, 1.21e-01, 1.13e-01, 7.97e-02, 5.26e-02, 6.58e-01]    []  \n",
      "14000     [1.67e+00, 1.95e-01, 1.90e-01, 1.52e-01, 1.40e-01, 1.26e-01, 7.55e-01]    [3.89e+01, 1.95e-01, 1.90e-01, 1.52e-01, 1.40e-01, 1.26e-01, 7.55e-01]    []  \n",
      "14000 [-1.56e+00]\n",
      "Warning: Rectangle boundary_normal called on vertices. You may use PDE(..., exclusions=...) to exclude the vertices.\n",
      "Warning: Rectangle boundary_normal called on vertices. You may use PDE(..., exclusions=...) to exclude the vertices.\n",
      "15000     [6.00e-01, 9.01e-02, 1.71e-01, 1.10e-01, 9.12e-02, 9.06e-02, 7.04e-01]    [1.34e+01, 9.01e-02, 1.71e-01, 1.10e-01, 9.12e-02, 9.06e-02, 7.04e-01]    []  \n",
      "16000     [1.52e+00, 1.81e-01, 1.44e-01, 1.07e-01, 1.33e-01, 1.33e-01, 7.37e-01]    [3.58e+01, 1.81e-01, 1.44e-01, 1.07e-01, 1.33e-01, 1.33e-01, 7.37e-01]    []  \n",
      "16000 [-2.20e+00]\n",
      "17000     [1.43e+00, 1.59e-01, 1.12e-01, 1.70e-01, 1.04e-01, 7.60e-02, 6.63e-01]    [3.12e+01, 1.59e-01, 1.12e-01, 1.70e-01, 1.04e-01, 7.60e-02, 6.63e-01]    []  \n",
      "18000     [9.47e-01, 1.24e-01, 8.24e-02, 1.37e-01, 9.27e-02, 4.17e-02, 6.11e-01]    [2.12e+01, 1.24e-01, 8.24e-02, 1.37e-01, 9.27e-02, 4.17e-02, 6.11e-01]    []  \n",
      "18000 [-3.24e+00]\n",
      "Warning: Rectangle boundary_normal called on vertices. You may use PDE(..., exclusions=...) to exclude the vertices.\n",
      "Warning: Rectangle boundary_normal called on vertices. You may use PDE(..., exclusions=...) to exclude the vertices.\n",
      "19000     [6.09e-01, 7.15e-02, 1.87e-01, 8.91e-02, 6.86e-02, 7.04e-02, 6.06e-01]    [1.09e+01, 7.15e-02, 1.87e-01, 8.91e-02, 6.86e-02, 7.04e-02, 6.06e-01]    []  \n",
      "20000     [1.67e+00, 1.99e-01, 2.30e-01, 1.25e-01, 1.43e-01, 1.45e-01, 7.68e-01]    [3.95e+01, 1.99e-01, 2.30e-01, 1.25e-01, 1.43e-01, 1.45e-01, 7.68e-01]    []  \n",
      "20000 [-3.74e+00]\n",
      "\n",
      "Best model at step 19000:\n",
      "  train loss: 1.70e+00\n",
      "  test loss: 1.20e+01\n",
      "  test metric: []\n",
      "\n",
      "'train' took 1918.084120 s\n",
      "\n"
     ]
    }
   ],
   "source": [
    "# Train\n",
    "losshistory, trainstate = model.train(iterations=20000, callbacks = [pde_resampler, variable])"
   ]
  },
  {
   "cell_type": "code",
   "execution_count": 117,
   "metadata": {},
   "outputs": [
    {
     "name": "stdout",
     "output_type": "stream",
     "text": [
      "Compiling model...\n",
      "'compile' took 0.000734 s\n",
      "\n",
      "Training model...\n",
      "\n",
      "Warning: Rectangle boundary_normal called on vertices. You may use PDE(..., exclusions=...) to exclude the vertices.\n",
      "Warning: Rectangle boundary_normal called on vertices. You may use PDE(..., exclusions=...) to exclude the vertices.\n",
      "Step      Train loss                                                                Test loss                                                                 Test metric\n",
      "20000     [1.68e+00, 1.99e-01, 2.30e-01, 1.25e-01, 1.43e-01, 8.12e+01, 7.68e-01]    [3.95e+01, 1.99e-01, 2.30e-01, 1.25e-01, 1.43e-01, 8.12e+01, 7.68e-01]    []  \n",
      "20000 [-3.74e+00]\n",
      "\n",
      "Best model at step 19000:\n",
      "  train loss: 1.70e+00\n",
      "  test loss: 1.20e+01\n",
      "  test metric: []\n",
      "\n",
      "'train' took 0.049083 s\n",
      "\n"
     ]
    }
   ],
   "source": [
    "# Finish training with different optimizer\n",
    "model.compile(\"L-BFGS-B\")\n",
    "losshistory, train_state = model.train(callbacks = [pde_resampler, variable])"
   ]
  },
  {
   "cell_type": "code",
   "execution_count": 118,
   "metadata": {},
   "outputs": [
    {
     "data": {
      "image/png": "[encoded data removed]",
      "text/plain": [
       "<Figure size 640x480 with 1 Axes>"
      ]
     },
     "metadata": {},
     "output_type": "display_data"
    }
   ],
   "source": [
    "# Save training plot\n",
    "dde.saveplot(losshistory, trainstate, issave=False, isplot=True)"
   ]
  },
  {
   "cell_type": "code",
   "execution_count": 119,
   "metadata": {},
   "outputs": [
    {
     "name": "stdout",
     "output_type": "stream",
     "text": [
      "tensor(-3.7404, device='cuda:0', requires_grad=True)\n"
     ]
    }
   ],
   "source": [
    "print(c_lambda)"
   ]
  }
 ],
 "metadata": {
  "kernelspec": {
   "display_name": "Python 3",
   "language": "python",
   "name": "python3"
  },
  "language_info": {
   "codemirror_mode": {
    "name": "ipython",
    "version": 3
   },
   "file_extension": ".py",
   "mimetype": "text/x-python",
   "name": "python",
   "nbconvert_exporter": "python",
   "pygments_lexer": "ipython3",
   "version": "3.12.9"
  }
 },
 "nbformat": 4,
 "nbformat_minor": 2
}
