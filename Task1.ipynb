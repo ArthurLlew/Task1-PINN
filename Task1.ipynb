{
 "cells": [
  {
   "cell_type": "markdown",
   "metadata": {},
   "source": [
    "# **<span style=\"color:red\">Imports</span>**"
   ]
  },
  {
   "cell_type": "code",
   "execution_count": 1,
   "metadata": {},
   "outputs": [
    {
     "name": "stderr",
     "output_type": "stream",
     "text": [
      "Using backend: pytorch\n",
      "Other supported backends: tensorflow.compat.v1, tensorflow, jax, paddle.\n",
      "paddle supports more examples now and is recommended.\n"
     ]
    }
   ],
   "source": [
    "# Math\n",
    "import math\n",
    "\n",
    "# Handy arrays\n",
    "import numpy as np\n",
    "\n",
    "# DeepXDE\n",
    "import deepxde as dde\n",
    "import torch"
   ]
  },
  {
   "cell_type": "markdown",
   "metadata": {},
   "source": [
    "# <span style=\"color:red\">**Постановка**</span>"
   ]
  },
  {
   "cell_type": "markdown",
   "metadata": {},
   "source": [
    "<div>\n",
    "<img src=\"var-07.png\" width=\"600\"/>\n",
    "</div>"
   ]
  },
  {
   "cell_type": "markdown",
   "metadata": {},
   "source": [
    "# <span style=\"color:red\">**PINN**</span>"
   ]
  },
  {
   "cell_type": "markdown",
   "metadata": {},
   "source": [
    "## <span style=\"color:orange\">**Init**</span>"
   ]
  },
  {
   "cell_type": "markdown",
   "metadata": {},
   "source": [
    "### <span>**Функция вычисления невязок**</span>"
   ]
  },
  {
   "cell_type": "code",
   "execution_count": 2,
   "metadata": {},
   "outputs": [],
   "source": [
    "def pde(domain: torch.Tensor, u: torch.Tensor) -> torch.Tensor:\n",
    "    # d^2 u\n",
    "    # -----\n",
    "    # dx ^2\n",
    "    du_xx = dde.grad.hessian(u, domain, i=0, j=0)\n",
    "\n",
    "    # d^2 u\n",
    "    # -----\n",
    "    # dy ^2\n",
    "    du_yy = dde.grad.hessian(u, domain, i=1, j=1)\n",
    "\n",
    "    # du/dt\n",
    "    du_t = dde.grad.jacobian(u, domain, j=2)\n",
    "\n",
    "    # Equation\n",
    "    return ((du_t - 2.3 * (du_xx + du_yy))\n",
    "            - 2.5586 * torch.exp(-0.7 * domain[:, 2:3]) * torch.sin(0.9 * domain[:, 0:1])\n",
    "            - 13.5616 * torch.exp(-0.7 * domain[:, 2:3]) * torch.cos(2.2 * domain[:, 1:2]))"
   ]
  },
  {
   "cell_type": "markdown",
   "metadata": {},
   "source": [
    "### <span>**Геометрия**</span>"
   ]
  },
  {
   "cell_type": "code",
   "execution_count": 3,
   "metadata": {},
   "outputs": [],
   "source": [
    "# Boundaries\n",
    "x_left, x_right = 0, math.pi\n",
    "y_down, y_up = -math.pi, math.pi\n",
    "T0, T1 = 0, 1\n",
    "\n",
    "# X & Y geomentry (rectangle)\n",
    "geometry = dde.geometry.Rectangle(xmin=[x_left, y_down], xmax=[x_right, y_up])\n",
    "# Time segment [0, 1]\n",
    "time_domain = dde.geometry.TimeDomain(T0, T1)\n",
    "# Final domain\n",
    "domain = dde.geometry.GeometryXTime(geometry, time_domain)"
   ]
  },
  {
   "cell_type": "markdown",
   "metadata": {},
   "source": [
    "### <span>**Функции принадлежности точки границе**</span>"
   ]
  },
  {
   "cell_type": "code",
   "execution_count": 4,
   "metadata": {},
   "outputs": [],
   "source": [
    "# Left boundary\n",
    "def l_boundary(domain, on_boundary):\n",
    "    return on_boundary and dde.utils.isclose(domain[0], x_left)"
   ]
  },
  {
   "cell_type": "code",
   "execution_count": 5,
   "metadata": {},
   "outputs": [],
   "source": [
    "# Right boundary\n",
    "def r_boundary(domain, on_boundary):\n",
    "    return on_boundary and dde.utils.isclose(domain[0], x_right)"
   ]
  },
  {
   "cell_type": "code",
   "execution_count": 6,
   "metadata": {},
   "outputs": [],
   "source": [
    "# Up boundary\n",
    "def up_boundary(domain, on_boundary):\n",
    "    return on_boundary and dde.utils.isclose(domain[1], y_down)"
   ]
  },
  {
   "cell_type": "code",
   "execution_count": 7,
   "metadata": {},
   "outputs": [],
   "source": [
    "# Down boundary\n",
    "def down_boundary(domain, on_boundary):\n",
    "    return on_boundary and dde.utils.isclose(domain[1], y_up)"
   ]
  },
  {
   "cell_type": "code",
   "execution_count": 8,
   "metadata": {},
   "outputs": [],
   "source": [
    "# Initial boundary\n",
    "def initial_boundary(domain, on_initial):\n",
    "    return on_initial and dde.utils.isclose(domain[2], T0)"
   ]
  },
  {
   "cell_type": "markdown",
   "metadata": {},
   "source": [
    "### <span>**Граничные и начальные условия**</span>"
   ]
  },
  {
   "cell_type": "code",
   "execution_count": 9,
   "metadata": {},
   "outputs": [],
   "source": [
    "# Constant to train\n",
    "c_lambda = dde.Variable(3.0)"
   ]
  },
  {
   "cell_type": "code",
   "execution_count": 10,
   "metadata": {},
   "outputs": [],
   "source": [
    "# Boundary condition left\n",
    "def bc_l_func(domain):\n",
    "    # Convert to numpy array on CPU\n",
    "    if (isinstance(domain, torch.Tensor)):\n",
    "        t = domain[:, 2:3].detach().cpu().numpy()\n",
    "    else:\n",
    "        t = domain[:, 2:3]\n",
    "\n",
    "    return 1.98 * np.exp(-0.7 * t)\n",
    "\n",
    "bc_l = dde.NeumannBC(domain, bc_l_func, l_boundary)"
   ]
  },
  {
   "cell_type": "code",
   "execution_count": 11,
   "metadata": {},
   "outputs": [],
   "source": [
    "# Boundary condition right\n",
    "def bc_r_func(domain):\n",
    "    # Convert to numpy array on CPU\n",
    "    if (isinstance(domain, torch.Tensor)):\n",
    "        y = domain[:, 1:2].detach().cpu().numpy()\n",
    "        t = domain[:, 2:3].detach().cpu().numpy()\n",
    "    else:\n",
    "        y = domain[:, 1:2]\n",
    "        t = domain[:, 2:3]\n",
    "\n",
    "    return 1.3 + 1.3 * np.exp(-0.7 * t) * np.cos(2.2 * y) - 0.55 * (1 - math.sqrt(5)) * np.exp(-0.7 * t)\n",
    "\n",
    "bc_r = dde.DirichletBC(domain, bc_r_func, r_boundary)"
   ]
  },
  {
   "cell_type": "code",
   "execution_count": 12,
   "metadata": {},
   "outputs": [],
   "source": [
    "# Boundary condition up\n",
    "def bc_up_func(domain):\n",
    "    # Convert to numpy array on CPU\n",
    "    if (isinstance(domain, torch.Tensor)):\n",
    "        t = domain[:, 2:3].detach().cpu().numpy()\n",
    "    else:\n",
    "        t = domain[:, 2:3]\n",
    "        \n",
    "    return -2.86 * math.sqrt(0.625 - math.sqrt(5)/8) * np.exp(-0.7 * t)\n",
    "\n",
    "bc_up = dde.DirichletBC(domain, bc_up_func, up_boundary)"
   ]
  },
  {
   "cell_type": "code",
   "execution_count": 13,
   "metadata": {},
   "outputs": [],
   "source": [
    "# Boundary condition down\n",
    "def bc_down_func(domain):\n",
    "    # Convert to numpy array on CPU\n",
    "    if (isinstance(domain, torch.Tensor)):\n",
    "        x = domain[:, 0:1].detach().cpu().numpy()\n",
    "        t = domain[:, 2:3].detach().cpu().numpy()\n",
    "    else:\n",
    "        x = domain[:, 0:1]\n",
    "        t = domain[:, 2:3]\n",
    "\n",
    "    return 1.3 + 2.2 * np.exp(-0.7 * t) * np.sin(0.9 * x) + 0.875 * (1 + math.sqrt(5)) * np.exp(-0.7 * t)\n",
    "\n",
    "bc_down = dde.NeumannBC(domain, bc_down_func, down_boundary)"
   ]
  },
  {
   "cell_type": "code",
   "execution_count": 14,
   "metadata": {},
   "outputs": [],
   "source": [
    "# Initial condition\n",
    "def ic_func(domain):\n",
    "    # Convert to numpy array on CPU\n",
    "    if (isinstance(domain, torch.Tensor)):\n",
    "        x = domain[:, 0:1].detach().cpu().numpy()\n",
    "        y = domain[:, 1:2].detach().cpu().numpy()\n",
    "    else:\n",
    "        x = domain[:, 0:1]\n",
    "        y = domain[:, 1:2]\n",
    "\n",
    "    return 2.2 * np.sin(0.9 * x) + 1.3 * np.cos(2.2 * y)\n",
    "\n",
    "ic = dde.IC(domain, ic_func, initial_boundary)"
   ]
  },
  {
   "cell_type": "code",
   "execution_count": 15,
   "metadata": {},
   "outputs": [],
   "source": [
    "# Observed data\n",
    "data = np.load('var-07.npz')\n",
    "ob_domain = data['xyt']\n",
    "ob_u = data['u']\n",
    "observed_u = dde.icbc.PointSetBC(ob_domain, ob_u, component=0)"
   ]
  },
  {
   "cell_type": "markdown",
   "metadata": {},
   "source": [
    "### <span>**Система уравнений**</span>"
   ]
  },
  {
   "cell_type": "code",
   "execution_count": 16,
   "metadata": {},
   "outputs": [
    {
     "name": "stdout",
     "output_type": "stream",
     "text": [
      "Warning: 141 points required, but 153 points sampled.\n",
      "Warning: 1000 points required, but 1224 points sampled.\n"
     ]
    }
   ],
   "source": [
    "data = dde.data.TimePDE(domain, pde, [bc_l, bc_r, bc_up, bc_down, ic, observed_u],\n",
    "                        num_domain=3000, num_boundary=800, num_initial=2000,\n",
    "                        anchors=ob_domain,\n",
    "                        num_test=1000)"
   ]
  },
  {
   "cell_type": "markdown",
   "metadata": {},
   "source": [
    "### <span>**Нейронная сеть**</span>"
   ]
  },
  {
   "cell_type": "code",
   "execution_count": 17,
   "metadata": {},
   "outputs": [],
   "source": [
    "layer_size = [3] + [60] * 5 + [1]\n",
    "\n",
    "net = dde.maps.FNN(layer_size, \"tanh\", \"Glorot uniform\")\n",
    "net.apply_output_transform(lambda x, y: abs(y))"
   ]
  },
  {
   "cell_type": "markdown",
   "metadata": {},
   "source": [
    "### <span>**Обёртка нейронной сети**</span>"
   ]
  },
  {
   "cell_type": "code",
   "execution_count": 23,
   "metadata": {},
   "outputs": [
    {
     "name": "stdout",
     "output_type": "stream",
     "text": [
      "Compiling model...\n",
      "'compile' took 0.000227 s\n",
      "\n"
     ]
    }
   ],
   "source": [
    "# Epochs and batch size\n",
    "iterations = 4000\n",
    "batch_size = 64\n",
    "\n",
    "# Init and compile model\n",
    "model = dde.Model(data, net)\n",
    "model.compile(\"adam\", lr=1e-3, loss_weights=[10, 7, 3, 1, 3, 7, 10], external_trainable_variables=c_lambda)"
   ]
  },
  {
   "cell_type": "code",
   "execution_count": 24,
   "metadata": {},
   "outputs": [],
   "source": [
    "# Callbacks\n",
    "variable = dde.callbacks.VariableValue(c_lambda, period=iterations/10)"
   ]
  },
  {
   "cell_type": "code",
   "execution_count": 25,
   "metadata": {},
   "outputs": [
    {
     "name": "stdout",
     "output_type": "stream",
     "text": [
      "Training model...\n",
      "\n",
      "Step      Train loss                                                                Test loss                                                                 Test metric\n",
      "0         [1.00e+01, 2.40e+00, 6.29e-01, 3.67e+00, 4.78e+00, 3.36e+00, 6.02e+00]    [1.16e+02, 2.40e+00, 6.29e-01, 3.67e+00, 4.78e+00, 3.36e+00, 6.02e+00]    []  \n",
      "0 [3.00e+00]\n",
      "400 [3.00e+00]\n",
      "800 [3.00e+00]\n",
      "1000      [1.28e+01, 1.85e+00, 1.05e+00, 3.49e+00, 4.14e+00, 2.36e+00, 5.24e+00]    [2.08e+02, 1.85e+00, 1.05e+00, 3.49e+00, 4.14e+00, 2.36e+00, 5.24e+00]    []  \n",
      "1200 [3.00e+00]\n",
      "1600 [3.00e+00]\n",
      "2000      [9.75e+00, 1.29e+00, 7.00e-01, 2.61e+00, 2.28e+00, 1.05e+00, 4.19e+00]    [1.08e+02, 1.29e+00, 7.00e-01, 2.61e+00, 2.28e+00, 1.05e+00, 4.19e+00]    []  \n",
      "2000 [3.00e+00]\n",
      "2400 [3.00e+00]\n",
      "2800 [3.00e+00]\n",
      "3000      [7.23e+00, 9.57e-01, 7.10e-01, 2.96e+00, 2.80e+00, 1.42e+00, 4.37e+00]    [8.30e+01, 9.57e-01, 7.10e-01, 2.96e+00, 2.80e+00, 1.42e+00, 4.37e+00]    []  \n",
      "3200 [3.00e+00]\n",
      "3600 [3.00e+00]\n",
      "4000      [7.42e+00, 1.38e+00, 5.74e-01, 3.33e+00, 1.86e+00, 2.74e+00, 3.79e+00]    [7.59e+01, 1.38e+00, 5.74e-01, 3.33e+00, 1.86e+00, 2.74e+00, 3.79e+00]    []  \n",
      "4000 [3.00e+00]\n",
      "\n",
      "Best model at step 3000:\n",
      "  train loss: 2.05e+01\n",
      "  test loss: 9.62e+01\n",
      "  test metric: []\n",
      "\n",
      "'train' took 543.953022 s\n",
      "\n"
     ]
    }
   ],
   "source": [
    "# Train\n",
    "losshistory, trainstate = model.train(iterations=iterations, callbacks = [variable])"
   ]
  },
  {
   "cell_type": "code",
   "execution_count": 26,
   "metadata": {},
   "outputs": [
    {
     "name": "stdout",
     "output_type": "stream",
     "text": [
      "Compiling model...\n",
      "'compile' took 0.000591 s\n",
      "\n",
      "Training model...\n",
      "\n",
      "Step      Train loss                                                                Test loss                                                                 Test metric\n",
      "4000      [7.42e-01, 1.97e-01, 1.91e-01, 3.33e+00, 6.20e-01, 3.91e-01, 3.79e-01]    [7.59e+00, 1.97e-01, 1.91e-01, 3.33e+00, 6.20e-01, 3.91e-01, 3.79e-01]    []  \n",
      "\n",
      "Best model at step 4000:\n",
      "  train loss: 5.85e+00\n",
      "  test loss: 1.27e+01\n",
      "  test metric: []\n",
      "\n",
      "'train' took 0.064440 s\n",
      "\n"
     ]
    }
   ],
   "source": [
    "# Finish training with different optimizer\n",
    "model.compile(\"L-BFGS-B\")\n",
    "losshistory, train_state = model.train(iterations=iterations, batch_size=batch_size)"
   ]
  },
  {
   "cell_type": "code",
   "execution_count": 27,
   "metadata": {},
   "outputs": [
    {
     "name": "stdout",
     "output_type": "stream",
     "text": [
      "Saving loss history to c:\\Documents\\University\\ML\\Task1\\loss.dat ...\n",
      "Saving training data to c:\\Documents\\University\\ML\\Task1\\train.dat ...\n",
      "Saving test data to c:\\Documents\\University\\ML\\Task1\\test.dat ...\n"
     ]
    },
    {
     "data": {
      "image/png": "[encoded data removed]",
      "text/plain": [
       "<Figure size 640x480 with 1 Axes>"
      ]
     },
     "metadata": {},
     "output_type": "display_data"
    }
   ],
   "source": [
    "# Save training plot\n",
    "dde.saveplot(losshistory, trainstate, issave=True, isplot=True)"
   ]
  }
 ],
 "metadata": {
  "kernelspec": {
   "display_name": "Python 3",
   "language": "python",
   "name": "python3"
  },
  "language_info": {
   "codemirror_mode": {
    "name": "ipython",
    "version": 3
   },
   "file_extension": ".py",
   "mimetype": "text/x-python",
   "name": "python",
   "nbconvert_exporter": "python",
   "pygments_lexer": "ipython3",
   "version": "3.12.9"
  }
 },
 "nbformat": 4,
 "nbformat_minor": 2
}
