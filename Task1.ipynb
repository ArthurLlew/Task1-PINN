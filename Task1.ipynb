{
 "cells": [
  {
   "cell_type": "markdown",
   "metadata": {},
   "source": [
    "# **<span style=\"color:red\">Imports</span>**"
   ]
  },
  {
   "cell_type": "code",
   "execution_count": 1,
   "metadata": {},
   "outputs": [
    {
     "name": "stderr",
     "output_type": "stream",
     "text": [
      "Using backend: pytorch\n",
      "Other supported backends: tensorflow.compat.v1, tensorflow, jax, paddle.\n",
      "paddle supports more examples now and is recommended.\n"
     ]
    }
   ],
   "source": [
    "# Math\n",
    "import math\n",
    "\n",
    "# Handy arrays\n",
    "import numpy as np\n",
    "\n",
    "# DeepXDE\n",
    "import deepxde as dde\n",
    "import torch"
   ]
  },
  {
   "cell_type": "markdown",
   "metadata": {},
   "source": [
    "# <span style=\"color:red\">**Постановка**</span>"
   ]
  },
  {
   "cell_type": "markdown",
   "metadata": {},
   "source": [
    "<div>\n",
    "<img src=\"var-07.png\" width=\"600\"/>\n",
    "</div>"
   ]
  },
  {
   "cell_type": "markdown",
   "metadata": {},
   "source": [
    "# <span style=\"color:red\">**PINN**</span>"
   ]
  },
  {
   "cell_type": "markdown",
   "metadata": {},
   "source": [
    "## <span style=\"color:orange\">**Init**</span>"
   ]
  },
  {
   "cell_type": "markdown",
   "metadata": {},
   "source": [
    "### <span>**Функция вычисления невязок**</span>"
   ]
  },
  {
   "cell_type": "code",
   "execution_count": 2,
   "metadata": {},
   "outputs": [],
   "source": [
    "def pde(domain: torch.Tensor, u: torch.Tensor) -> torch.Tensor:\n",
    "    # d^2 u\n",
    "    # -----\n",
    "    # dx ^2\n",
    "    du_xx = dde.grad.hessian(u, domain, i=0, j=0)\n",
    "\n",
    "    # d^2 u\n",
    "    # -----\n",
    "    # dy ^2\n",
    "    du_yy = dde.grad.hessian(u, domain, i=1, j=1)\n",
    "\n",
    "    # du/dt\n",
    "    du_t = dde.grad.jacobian(u, domain, j=2)\n",
    "\n",
    "    # Equation\n",
    "    return ((du_t - 2.3 * (du_xx + du_yy))\n",
    "            - 2.5586 * torch.exp(-0.7 * domain[:, 2:3]) * torch.sin(0.9 * domain[:, 0:1])\n",
    "            - 13.5616 * torch.exp(-0.7 * domain[:, 2:3]) * torch.cos(2.2 * domain[:, 1:2]))"
   ]
  },
  {
   "cell_type": "markdown",
   "metadata": {},
   "source": [
    "### <span>**Геометрия**</span>"
   ]
  },
  {
   "cell_type": "code",
   "execution_count": 3,
   "metadata": {},
   "outputs": [],
   "source": [
    "# Boundaries\n",
    "x_left, x_right = 0, math.pi\n",
    "y_down, y_up = -math.pi, math.pi\n",
    "T0, T1 = 0, 1\n",
    "\n",
    "# X & Y geomentry (rectangle)\n",
    "geometry = dde.geometry.Rectangle(xmin=[x_left, y_down], xmax=[x_right, y_up])\n",
    "# Time segment [0, 1]\n",
    "time_domain = dde.geometry.TimeDomain(T0, T1)\n",
    "# Final domain\n",
    "domain = dde.geometry.GeometryXTime(geometry, time_domain)"
   ]
  },
  {
   "cell_type": "markdown",
   "metadata": {},
   "source": [
    "### <span>**Функции принадлежности точки границе**</span>"
   ]
  },
  {
   "cell_type": "code",
   "execution_count": 4,
   "metadata": {},
   "outputs": [],
   "source": [
    "# Left boundary\n",
    "def l_boundary(domain, on_boundary):\n",
    "    return on_boundary and dde.utils.isclose(domain[0], x_left)"
   ]
  },
  {
   "cell_type": "code",
   "execution_count": 5,
   "metadata": {},
   "outputs": [],
   "source": [
    "# Right boundary\n",
    "def r_boundary(domain, on_boundary):\n",
    "    return on_boundary and dde.utils.isclose(domain[0], x_right)"
   ]
  },
  {
   "cell_type": "code",
   "execution_count": 6,
   "metadata": {},
   "outputs": [],
   "source": [
    "# Up boundary\n",
    "def up_boundary(domain, on_boundary):\n",
    "    return on_boundary and dde.utils.isclose(domain[1], y_up)"
   ]
  },
  {
   "cell_type": "code",
   "execution_count": 7,
   "metadata": {},
   "outputs": [],
   "source": [
    "# Down boundary\n",
    "def down_boundary(domain, on_boundary):\n",
    "    return on_boundary and dde.utils.isclose(domain[1], y_down)"
   ]
  },
  {
   "cell_type": "code",
   "execution_count": 8,
   "metadata": {},
   "outputs": [],
   "source": [
    "# Initial boundary\n",
    "def initial_boundary(domain, on_initial):\n",
    "    return on_initial and dde.utils.isclose(domain[2], T0)"
   ]
  },
  {
   "cell_type": "markdown",
   "metadata": {},
   "source": [
    "### <span>**Константа и соответсвующие модели обучения**</span>"
   ]
  },
  {
   "cell_type": "code",
   "execution_count": 9,
   "metadata": {},
   "outputs": [],
   "source": [
    "class TrainSchedule:\n",
    "    def __init__(self, lr: float, iterations: int):\n",
    "        self.lr = lr\n",
    "        self.iterations = iterations"
   ]
  },
  {
   "cell_type": "code",
   "execution_count": 10,
   "metadata": {},
   "outputs": [],
   "source": [
    "class ConstantPreset:\n",
    "    def __init__(self, constant: float, train_schedules: list[TrainSchedule]):\n",
    "        self.constant = constant\n",
    "        self.train_schedules = train_schedules"
   ]
  },
  {
   "cell_type": "code",
   "execution_count": 410,
   "metadata": {},
   "outputs": [],
   "source": [
    "# Different initial constant values and their train schedules\n",
    "constant_sets = [ConstantPreset(6.5, [TrainSchedule(1e-3, 11000), TrainSchedule(1e-4, 5000)]),\n",
    "                 ConstantPreset(5.0, [TrainSchedule(1e-3, 9000), TrainSchedule(1e-4, 2000)]),\n",
    "                 ConstantPreset(-4.0, [TrainSchedule(1e-3, 10000), TrainSchedule(1e-4, 3000)])]"
   ]
  },
  {
   "cell_type": "code",
   "execution_count": 411,
   "metadata": {},
   "outputs": [],
   "source": [
    "# Set selection\n",
    "constant_set = constant_sets[2]"
   ]
  },
  {
   "cell_type": "code",
   "execution_count": 412,
   "metadata": {},
   "outputs": [],
   "source": [
    "# Constant to train\n",
    "c_lambda = dde.Variable(constant_set.constant)"
   ]
  },
  {
   "cell_type": "markdown",
   "metadata": {},
   "source": [
    "### <span>**Граничные и начальные условия**</span>"
   ]
  },
  {
   "cell_type": "code",
   "execution_count": 413,
   "metadata": {},
   "outputs": [],
   "source": [
    "# Boundary condition left\n",
    "def bc_l_func(domain):\n",
    "    if (isinstance(domain, torch.Tensor)):\n",
    "        t = domain[:, 2:3]\n",
    "    # Convert to numpy array to CUDA tensor\n",
    "    else:\n",
    "        t = torch.from_numpy(domain[:, 2:3]).to(device=\"cuda\")\n",
    "\n",
    "    return - 1.98 * torch.exp(-0.7 * t)\n",
    "\n",
    "bc_l = dde.NeumannBC(domain, bc_l_func, l_boundary)"
   ]
  },
  {
   "cell_type": "code",
   "execution_count": 414,
   "metadata": {},
   "outputs": [],
   "source": [
    "# Boundary condition right\n",
    "def bc_r_func(domain):\n",
    "    if (isinstance(domain, torch.Tensor)):\n",
    "        y = domain[:, 1:2]\n",
    "        t = domain[:, 2:3]\n",
    "    # Convert to numpy array to CUDA tensor\n",
    "    else:\n",
    "        y = torch.from_numpy(domain[:, 1:2]).to(device=\"cuda\")\n",
    "        t = torch.from_numpy(domain[:, 2:3]).to(device=\"cuda\")\n",
    "\n",
    "    return 1.3 + 1.3 * torch.exp(-0.7 * t) * torch.cos(2.2 * y) - 0.55 * (1 - math.sqrt(5)) * torch.exp(-0.7 * t)\n",
    "\n",
    "bc_r = dde.DirichletBC(domain, bc_r_func, r_boundary)"
   ]
  },
  {
   "cell_type": "code",
   "execution_count": 415,
   "metadata": {},
   "outputs": [],
   "source": [
    "# Boundary condition up\n",
    "def bc_up_func(domain):\n",
    "    if (isinstance(domain, torch.Tensor)):\n",
    "        t = domain[:, 2:3]\n",
    "    # Convert to numpy array to CUDA tensor\n",
    "    else:\n",
    "        t = torch.from_numpy(domain[:, 2:3]).to(device=\"cuda\")\n",
    "        \n",
    "    return - 2.86 * math.sqrt(0.625 - math.sqrt(5)/8) * torch.exp(-0.7 * t)\n",
    "\n",
    "bc_up = dde.NeumannBC(domain, bc_up_func, up_boundary)"
   ]
  },
  {
   "cell_type": "code",
   "execution_count": 416,
   "metadata": {},
   "outputs": [],
   "source": [
    "# Boundary condition down\n",
    "def bc_down_func(domain):\n",
    "    if (isinstance(domain, torch.Tensor)):\n",
    "        x = domain[:, 0:1]\n",
    "        t = domain[:, 2:3]\n",
    "    # Convert to numpy array to CUDA tensor\n",
    "    else:\n",
    "        x = torch.from_numpy(domain[:, 0:1]).to(device=\"cuda\")\n",
    "        t = torch.from_numpy(domain[:, 2:3]).to(device=\"cuda\")\n",
    "\n",
    "    return 1.3 + 2.2 * torch.exp(-0.7 * t) * torch.sin(0.9 * x) + 0.875 * (1 + math.sqrt(5)) * torch.exp(-0.7 * t)\n",
    "\n",
    "bc_down = dde.DirichletBC(domain, bc_down_func, down_boundary)"
   ]
  },
  {
   "cell_type": "code",
   "execution_count": 417,
   "metadata": {},
   "outputs": [],
   "source": [
    "# Initial condition\n",
    "def ic_func(domain):\n",
    "    if (isinstance(domain, torch.Tensor)):\n",
    "        x = domain[:, 0:1]\n",
    "        y = domain[:, 1:2]\n",
    "    # Convert to numpy array to CUDA tensor\n",
    "    else:\n",
    "        x = torch.from_numpy(domain[:, 0:1]).to(device=\"cuda\")\n",
    "        y = torch.from_numpy(domain[:, 1:2]).to(device=\"cuda\")\n",
    "\n",
    "    return c_lambda + 2.2 * torch.sin(0.9 * x) + 1.3 * torch.cos(2.2 * y)\n",
    "\n",
    "ic = dde.IC(domain, ic_func, initial_boundary)"
   ]
  },
  {
   "cell_type": "code",
   "execution_count": 418,
   "metadata": {},
   "outputs": [],
   "source": [
    "# Observed data\n",
    "data = np.load('var-07.npz')\n",
    "ob_domain = data['xyt']\n",
    "ob_u = data['u']\n",
    "observed_u = dde.icbc.PointSetBC(ob_domain, ob_u, component=0)"
   ]
  },
  {
   "cell_type": "markdown",
   "metadata": {},
   "source": [
    "### <span>**Система уравнений**</span>"
   ]
  },
  {
   "cell_type": "code",
   "execution_count": 419,
   "metadata": {},
   "outputs": [
    {
     "name": "stdout",
     "output_type": "stream",
     "text": [
      "Warning: 244 points required, but 276 points sampled.\n",
      "Warning: 3000 points required, but 3588 points sampled.\n"
     ]
    }
   ],
   "source": [
    "data = dde.data.TimePDE(domain, pde, [bc_l, bc_r, bc_up, bc_down, ic, observed_u],\n",
    "                        num_domain=3000, num_boundary=1000, num_initial=2000,\n",
    "                        anchors=ob_domain,\n",
    "                        num_test=3000)"
   ]
  },
  {
   "cell_type": "markdown",
   "metadata": {},
   "source": [
    "### <span>**Нейронная сеть**</span>"
   ]
  },
  {
   "cell_type": "code",
   "execution_count": 420,
   "metadata": {},
   "outputs": [],
   "source": [
    "layer_size = [3] + [50] * 5 + [1]\n",
    "net = dde.maps.FNN(layer_size, \"tanh\", \"Glorot uniform\")"
   ]
  },
  {
   "cell_type": "markdown",
   "metadata": {},
   "source": [
    "### <span>**Обёртка нейронной сети**</span>"
   ]
  },
  {
   "cell_type": "code",
   "execution_count": 421,
   "metadata": {},
   "outputs": [],
   "source": [
    "# Init model\n",
    "model = dde.Model(data, net)"
   ]
  },
  {
   "cell_type": "markdown",
   "metadata": {},
   "source": [
    "### <span>**Обучение**</span>"
   ]
  },
  {
   "cell_type": "code",
   "execution_count": 422,
   "metadata": {},
   "outputs": [],
   "source": [
    "# Callbacks\n",
    "variable = dde.callbacks.VariableValue(c_lambda, period=1000)\n",
    "pde_resampler = dde.callbacks.PDEPointResampler(period=800)"
   ]
  },
  {
   "cell_type": "code",
   "execution_count": null,
   "metadata": {},
   "outputs": [],
   "source": [
    "for train_schedule in constant_set.train_schedules:\n",
    "    model.compile(\"adam\", lr=train_schedule.lr, external_trainable_variables=[c_lambda])\n",
    "    losshistory, trainstate = model.train(iterations=train_schedule.iterations, callbacks = [pde_resampler, variable])"
   ]
  },
  {
   "cell_type": "code",
   "execution_count": null,
   "metadata": {},
   "outputs": [],
   "source": [
    "# Show training plot\n",
    "dde.saveplot(losshistory, trainstate, issave=False, isplot=True)"
   ]
  },
  {
   "cell_type": "code",
   "execution_count": null,
   "metadata": {},
   "outputs": [],
   "source": [
    "print(c_lambda)"
   ]
  }
 ],
 "metadata": {
  "kernelspec": {
   "display_name": "Python 3",
   "language": "python",
   "name": "python3"
  },
  "language_info": {
   "codemirror_mode": {
    "name": "ipython",
    "version": 3
   },
   "file_extension": ".py",
   "mimetype": "text/x-python",
   "name": "python",
   "nbconvert_exporter": "python",
   "pygments_lexer": "ipython3",
   "version": "3.12.9"
  }
 },
 "nbformat": 4,
 "nbformat_minor": 2
}
