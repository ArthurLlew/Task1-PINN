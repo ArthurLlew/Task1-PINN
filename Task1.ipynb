{
 "cells": [
  {
   "cell_type": "markdown",
   "metadata": {},
   "source": [
    "# **<span style=\"color:red\">Imports</span>**"
   ]
  },
  {
   "cell_type": "code",
   "execution_count": 1,
   "metadata": {},
   "outputs": [
    {
     "name": "stderr",
     "output_type": "stream",
     "text": [
      "Using backend: pytorch\n",
      "Other supported backends: tensorflow.compat.v1, tensorflow, jax, paddle.\n",
      "paddle supports more examples now and is recommended.\n"
     ]
    }
   ],
   "source": [
    "# Math\n",
    "import math\n",
    "\n",
    "# Handy arrays\n",
    "import numpy as np\n",
    "\n",
    "# DeepXDE\n",
    "import deepxde as dde\n",
    "import torch"
   ]
  },
  {
   "cell_type": "markdown",
   "metadata": {},
   "source": [
    "# <span style=\"color:red\">**Постановка**</span>"
   ]
  },
  {
   "cell_type": "markdown",
   "metadata": {},
   "source": [
    "<div>\n",
    "<img src=\"var-07.png\" width=\"600\"/>\n",
    "</div>"
   ]
  },
  {
   "cell_type": "markdown",
   "metadata": {},
   "source": [
    "# <span style=\"color:red\">**PINN**</span>"
   ]
  },
  {
   "cell_type": "markdown",
   "metadata": {},
   "source": [
    "## <span style=\"color:orange\">**Init**</span>"
   ]
  },
  {
   "cell_type": "markdown",
   "metadata": {},
   "source": [
    "### <span>**Функция вычисления невязок**</span>"
   ]
  },
  {
   "cell_type": "code",
   "execution_count": 2,
   "metadata": {},
   "outputs": [],
   "source": [
    "def pde(domain: torch.Tensor, u: torch.Tensor) -> torch.Tensor:\n",
    "    # d^2 u\n",
    "    # -----\n",
    "    # dx ^2\n",
    "    du_xx = dde.grad.hessian(u, domain, i=0, j=0)\n",
    "\n",
    "    # d^2 u\n",
    "    # -----\n",
    "    # dy ^2\n",
    "    du_yy = dde.grad.hessian(u, domain, i=1, j=1)\n",
    "\n",
    "    # du/dt\n",
    "    du_t = dde.grad.jacobian(u, domain, j=2)\n",
    "\n",
    "    # Equation\n",
    "    return ((du_t - 2.3 * (du_xx + du_yy))\n",
    "            - 2.5586 * torch.exp(-0.7 * domain[:, 2:3]) * torch.sin(0.9 * domain[:, 0:1])\n",
    "            - 13.5616 * torch.exp(-0.7 * domain[:, 2:3]) * torch.cos(2.2 * domain[:, 1:2]))"
   ]
  },
  {
   "cell_type": "markdown",
   "metadata": {},
   "source": [
    "### <span>**Геометрия**</span>"
   ]
  },
  {
   "cell_type": "code",
   "execution_count": 3,
   "metadata": {},
   "outputs": [],
   "source": [
    "# Boundaries\n",
    "x_left, x_right = 0, math.pi\n",
    "y_down, y_up = -math.pi, math.pi\n",
    "T0, T1 = 0, 1\n",
    "\n",
    "# X & Y geomentry (rectangle)\n",
    "geometry = dde.geometry.Rectangle(xmin=[x_left, y_down], xmax=[x_right, y_up])\n",
    "# Time segment [0, 1]\n",
    "time_domain = dde.geometry.TimeDomain(T0, T1)\n",
    "# Final domain\n",
    "domain = dde.geometry.GeometryXTime(geometry, time_domain)"
   ]
  },
  {
   "cell_type": "markdown",
   "metadata": {},
   "source": [
    "### <span>**Функции принадлежности точки границе**</span>"
   ]
  },
  {
   "cell_type": "code",
   "execution_count": 4,
   "metadata": {},
   "outputs": [],
   "source": [
    "# Left boundary\n",
    "def l_boundary(domain, on_boundary):\n",
    "    return on_boundary and dde.utils.isclose(domain[0], x_left)"
   ]
  },
  {
   "cell_type": "code",
   "execution_count": 5,
   "metadata": {},
   "outputs": [],
   "source": [
    "# Right boundary\n",
    "def r_boundary(domain, on_boundary):\n",
    "    return on_boundary and dde.utils.isclose(domain[0], x_right)"
   ]
  },
  {
   "cell_type": "code",
   "execution_count": 6,
   "metadata": {},
   "outputs": [],
   "source": [
    "# Up boundary\n",
    "def up_boundary(domain, on_boundary):\n",
    "    return on_boundary and dde.utils.isclose(domain[1], y_down)"
   ]
  },
  {
   "cell_type": "code",
   "execution_count": 7,
   "metadata": {},
   "outputs": [],
   "source": [
    "# Down boundary\n",
    "def down_boundary(domain, on_boundary):\n",
    "    return on_boundary and dde.utils.isclose(domain[1], y_up)"
   ]
  },
  {
   "cell_type": "code",
   "execution_count": 8,
   "metadata": {},
   "outputs": [],
   "source": [
    "# Initial boundary\n",
    "def initial_boundary(domain, on_initial):\n",
    "    return on_initial and dde.utils.isclose(domain[2], T0)"
   ]
  },
  {
   "cell_type": "markdown",
   "metadata": {},
   "source": [
    "### <span>**Граничные и начальные условия**</span>"
   ]
  },
  {
   "cell_type": "code",
   "execution_count": 9,
   "metadata": {},
   "outputs": [],
   "source": [
    "# Boundary condition left\n",
    "def bc_l_func(domain):\n",
    "    # Convert to numpy array on CPU\n",
    "    if (isinstance(domain, torch.Tensor)):\n",
    "        t = domain[:, 2:3]\n",
    "    else:\n",
    "        t = torch.from_numpy(domain[:, 2:3]).to(device=\"cuda\")\n",
    "\n",
    "    return 1.98 * torch.exp(-0.7 * t)\n",
    "\n",
    "bc_l = dde.NeumannBC(domain, bc_l_func, l_boundary)"
   ]
  },
  {
   "cell_type": "code",
   "execution_count": 10,
   "metadata": {},
   "outputs": [],
   "source": [
    "# Boundary condition right\n",
    "def bc_r_func(domain):\n",
    "    # Convert to numpy array on CPU\n",
    "    if (isinstance(domain, torch.Tensor)):\n",
    "        y = domain[:, 1:2]\n",
    "        t = domain[:, 2:3]\n",
    "    else:\n",
    "        y = torch.from_numpy(domain[:, 1:2]).to(device=\"cuda\")\n",
    "        t = torch.from_numpy(domain[:, 2:3]).to(device=\"cuda\")\n",
    "\n",
    "    return 1.3 + 1.3 * torch.exp(-0.7 * t) * torch.cos(2.2 * y) - 0.55 * (1 - math.sqrt(5)) * torch.exp(-0.7 * t)\n",
    "\n",
    "bc_r = dde.DirichletBC(domain, bc_r_func, r_boundary)"
   ]
  },
  {
   "cell_type": "code",
   "execution_count": 11,
   "metadata": {},
   "outputs": [],
   "source": [
    "# Boundary condition up\n",
    "def bc_up_func(domain):\n",
    "    # Convert to numpy array on CPU\n",
    "    if (isinstance(domain, torch.Tensor)):\n",
    "        t = domain[:, 2:3]\n",
    "    else:\n",
    "        t = torch.from_numpy(domain[:, 2:3]).to(device=\"cuda\")\n",
    "        \n",
    "    return -2.86 * math.sqrt(0.625 - math.sqrt(5)/8) * torch.exp(-0.7 * t)\n",
    "\n",
    "bc_up = dde.DirichletBC(domain, bc_up_func, up_boundary)"
   ]
  },
  {
   "cell_type": "code",
   "execution_count": 12,
   "metadata": {},
   "outputs": [],
   "source": [
    "# Boundary condition down\n",
    "def bc_down_func(domain):\n",
    "    # Convert to numpy array on CPU\n",
    "    if (isinstance(domain, torch.Tensor)):\n",
    "        x = domain[:, 0:1]\n",
    "        t = domain[:, 2:3]\n",
    "    else:\n",
    "        x = torch.from_numpy(domain[:, 0:1]).to(device=\"cuda\")\n",
    "        t = torch.from_numpy(domain[:, 2:3]).to(device=\"cuda\")\n",
    "\n",
    "    return 1.3 + 2.2 * torch.exp(-0.7 * t) * torch.sin(0.9 * x) + 0.875 * (1 + math.sqrt(5)) * torch.exp(-0.7 * t)\n",
    "\n",
    "bc_down = dde.NeumannBC(domain, bc_down_func, down_boundary)"
   ]
  },
  {
   "cell_type": "code",
   "execution_count": 70,
   "metadata": {},
   "outputs": [],
   "source": [
    "# Constant to train\n",
    "# Initial values: 3.5, -3.5, -15.0\n",
    "c_lambda = dde.Variable(-1.0)"
   ]
  },
  {
   "cell_type": "code",
   "execution_count": 71,
   "metadata": {},
   "outputs": [],
   "source": [
    "# Initial condition\n",
    "def ic_func(domain):\n",
    "    # Convert to numpy array on CPU\n",
    "    if (isinstance(domain, torch.Tensor)):\n",
    "        x = domain[:, 0:1]\n",
    "        y = domain[:, 1:2]\n",
    "    else:\n",
    "        x = torch.from_numpy(domain[:, 0:1]).to(device=\"cuda\")\n",
    "        y = torch.from_numpy(domain[:, 1:2]).to(device=\"cuda\")\n",
    "\n",
    "    return c_lambda + 2.2 * torch.sin(0.9 * x) + 1.3 * torch.cos(2.2 * y)\n",
    "\n",
    "ic = dde.IC(domain, ic_func, initial_boundary)"
   ]
  },
  {
   "cell_type": "code",
   "execution_count": 72,
   "metadata": {},
   "outputs": [],
   "source": [
    "# Observed data\n",
    "data = np.load('var-07.npz')\n",
    "ob_domain = data['xyt']\n",
    "ob_u = data['u']\n",
    "observed_u = dde.icbc.PointSetBC(ob_domain, ob_u, component=0)"
   ]
  },
  {
   "cell_type": "markdown",
   "metadata": {},
   "source": [
    "### <span>**Система уравнений**</span>"
   ]
  },
  {
   "cell_type": "code",
   "execution_count": 73,
   "metadata": {},
   "outputs": [
    {
     "name": "stdout",
     "output_type": "stream",
     "text": [
      "Warning: 345 points required, but 378 points sampled.\n",
      "Warning: 6000 points required, but 6804 points sampled.\n"
     ]
    }
   ],
   "source": [
    "data = dde.data.TimePDE(domain, pde, [bc_l, bc_r, bc_up, bc_down, ic, observed_u],\n",
    "                        num_domain=4000, num_boundary=1500, num_initial=2500,\n",
    "                        anchors=ob_domain,\n",
    "                        num_test=6000)"
   ]
  },
  {
   "cell_type": "markdown",
   "metadata": {},
   "source": [
    "### <span>**Нейронная сеть**</span>"
   ]
  },
  {
   "cell_type": "code",
   "execution_count": 74,
   "metadata": {},
   "outputs": [],
   "source": [
    "layer_size = [3] + [60] * 5 + [1]\n",
    "net = dde.maps.FNN(layer_size, \"tanh\", \"Glorot uniform\")"
   ]
  },
  {
   "cell_type": "markdown",
   "metadata": {},
   "source": [
    "### <span>**Обёртка нейронной сети**</span>"
   ]
  },
  {
   "cell_type": "code",
   "execution_count": 75,
   "metadata": {},
   "outputs": [
    {
     "name": "stdout",
     "output_type": "stream",
     "text": [
      "Compiling model...\n",
      "'compile' took 0.000538 s\n",
      "\n"
     ]
    }
   ],
   "source": [
    "# Epochs and batch size\n",
    "iterations = 20000\n",
    "batch_size = 256\n",
    "\n",
    "# Init and compile model\n",
    "model = dde.Model(data, net)\n",
    "model.compile(\"adam\", lr=1e-4, external_trainable_variables=[c_lambda])"
   ]
  },
  {
   "cell_type": "code",
   "execution_count": 76,
   "metadata": {},
   "outputs": [],
   "source": [
    "# Callbacks\n",
    "variable = dde.callbacks.VariableValue(c_lambda, period=iterations/10)"
   ]
  },
  {
   "cell_type": "code",
   "execution_count": 77,
   "metadata": {},
   "outputs": [
    {
     "name": "stdout",
     "output_type": "stream",
     "text": [
      "Training model...\n",
      "\n",
      "Warning: Rectangle boundary_normal called on vertices. You may use PDE(..., exclusions=...) to exclude the vertices.\n",
      "Warning: Rectangle boundary_normal called on vertices. You may use PDE(..., exclusions=...) to exclude the vertices.\n",
      "0         [3.17e+01, 8.70e-01, 7.35e+00, 7.12e-01, 1.59e+01, 2.78e+00, 6.97e+00]    [5.43e+01, 8.70e-01, 7.35e+00, 7.12e-01, 1.59e+01, 2.78e+00, 6.97e+00]    []  \n",
      "0 [-1.00e+00]\n",
      "1000      [2.40e+00, 4.24e-01, 7.70e-01, 5.79e-01, 6.36e-01, 1.27e+00, 1.88e+00]    [9.88e+00, 4.24e-01, 7.70e-01, 5.79e-01, 6.36e-01, 1.27e+00, 1.88e+00]    []  \n",
      "2000      [1.54e+00, 4.07e-01, 6.37e-01, 4.60e-01, 5.71e-01, 8.08e-01, 1.61e+00]    [8.11e+00, 4.07e-01, 6.37e-01, 4.60e-01, 5.71e-01, 8.08e-01, 1.61e+00]    []  \n",
      "2000 [-1.15e+00]\n",
      "3000      [1.24e+00, 3.22e-01, 5.12e-01, 3.01e-01, 4.10e-01, 7.38e-01, 1.42e+00]    [1.00e+01, 3.22e-01, 5.12e-01, 3.01e-01, 4.10e-01, 7.38e-01, 1.42e+00]    []  \n",
      "4000      [9.94e-01, 2.25e-01, 3.76e-01, 2.91e-01, 2.88e-01, 6.07e-01, 1.31e+00]    [1.18e+01, 2.25e-01, 3.76e-01, 2.91e-01, 2.88e-01, 6.07e-01, 1.31e+00]    []  \n",
      "4000 [-1.27e+00]\n",
      "5000      [9.54e-01, 2.06e-01, 3.29e-01, 2.76e-01, 2.26e-01, 4.65e-01, 1.25e+00]    [1.19e+01, 2.06e-01, 3.29e-01, 2.76e-01, 2.26e-01, 4.65e-01, 1.25e+00]    []  \n",
      "6000      [9.21e-01, 1.81e-01, 3.07e-01, 2.39e-01, 1.85e-01, 3.68e-01, 1.22e+00]    [1.21e+01, 1.81e-01, 3.07e-01, 2.39e-01, 1.85e-01, 3.68e-01, 1.22e+00]    []  \n",
      "6000 [-1.40e+00]\n",
      "7000      [8.90e-01, 1.58e-01, 2.84e-01, 2.60e-01, 1.54e-01, 2.95e-01, 1.14e+00]    [1.25e+01, 1.58e-01, 2.84e-01, 2.60e-01, 1.54e-01, 2.95e-01, 1.14e+00]    []  \n",
      "8000      [8.56e-01, 1.44e-01, 2.75e-01, 2.35e-01, 1.45e-01, 2.53e-01, 1.09e+00]    [1.28e+01, 1.44e-01, 2.75e-01, 2.35e-01, 1.45e-01, 2.53e-01, 1.09e+00]    []  \n",
      "8000 [-1.56e+00]\n",
      "9000      [8.34e-01, 1.37e-01, 2.60e-01, 2.37e-01, 1.40e-01, 2.26e-01, 1.05e+00]    [1.29e+01, 1.37e-01, 2.60e-01, 2.37e-01, 1.40e-01, 2.26e-01, 1.05e+00]    []  \n",
      "10000     [8.20e-01, 1.31e-01, 2.51e-01, 2.34e-01, 1.33e-01, 2.06e-01, 1.02e+00]    [1.29e+01, 1.31e-01, 2.51e-01, 2.34e-01, 1.33e-01, 2.06e-01, 1.02e+00]    []  \n",
      "10000 [-1.75e+00]\n",
      "11000     [8.07e-01, 1.26e-01, 2.43e-01, 2.25e-01, 1.25e-01, 1.88e-01, 9.94e-01]    [1.29e+01, 1.26e-01, 2.43e-01, 2.25e-01, 1.25e-01, 1.88e-01, 9.94e-01]    []  \n",
      "12000     [7.93e-01, 1.22e-01, 2.34e-01, 2.18e-01, 1.19e-01, 1.72e-01, 9.78e-01]    [1.28e+01, 1.22e-01, 2.34e-01, 2.18e-01, 1.19e-01, 1.72e-01, 9.78e-01]    []  \n",
      "12000 [-1.95e+00]\n",
      "13000     [7.88e-01, 1.18e-01, 2.27e-01, 2.12e-01, 1.15e-01, 1.59e-01, 9.54e-01]    [1.28e+01, 1.18e-01, 2.27e-01, 2.12e-01, 1.15e-01, 1.59e-01, 9.54e-01]    []  \n",
      "14000     [7.82e-01, 1.18e-01, 2.07e-01, 2.78e-01, 1.15e-01, 1.51e-01, 8.90e-01]    [1.28e+01, 1.18e-01, 2.07e-01, 2.78e-01, 1.15e-01, 1.51e-01, 8.90e-01]    []  \n",
      "14000 [-2.15e+00]\n",
      "15000     [7.75e-01, 1.13e-01, 2.13e-01, 1.99e-01, 1.10e-01, 1.45e-01, 9.24e-01]    [1.28e+01, 1.13e-01, 2.13e-01, 1.99e-01, 1.10e-01, 1.45e-01, 9.24e-01]    []  \n",
      "16000     [7.72e-01, 1.11e-01, 2.08e-01, 1.96e-01, 1.08e-01, 1.41e-01, 9.06e-01]    [1.29e+01, 1.11e-01, 2.08e-01, 1.96e-01, 1.08e-01, 1.41e-01, 9.06e-01]    []  \n",
      "16000 [-2.35e+00]\n",
      "17000     [7.70e-01, 1.09e-01, 2.02e-01, 1.91e-01, 1.06e-01, 1.37e-01, 8.93e-01]    [1.29e+01, 1.09e-01, 2.02e-01, 1.91e-01, 1.06e-01, 1.37e-01, 8.93e-01]    []  \n",
      "18000     [7.67e-01, 1.07e-01, 1.97e-01, 1.88e-01, 1.05e-01, 1.34e-01, 8.80e-01]    [1.29e+01, 1.07e-01, 1.97e-01, 1.88e-01, 1.05e-01, 1.34e-01, 8.80e-01]    []  \n",
      "18000 [-2.55e+00]\n",
      "19000     [7.66e-01, 1.06e-01, 1.92e-01, 1.85e-01, 1.04e-01, 1.32e-01, 8.68e-01]    [1.30e+01, 1.06e-01, 1.92e-01, 1.85e-01, 1.04e-01, 1.32e-01, 8.68e-01]    []  \n",
      "20000     [7.65e-01, 1.05e-01, 1.88e-01, 1.82e-01, 1.02e-01, 1.30e-01, 8.56e-01]    [1.30e+01, 1.05e-01, 1.88e-01, 1.82e-01, 1.02e-01, 1.30e-01, 8.56e-01]    []  \n",
      "20000 [-2.75e+00]\n",
      "\n",
      "Best model at step 20000:\n",
      "  train loss: 2.33e+00\n",
      "  test loss: 1.46e+01\n",
      "  test metric: []\n",
      "\n",
      "'train' took 2482.416387 s\n",
      "\n"
     ]
    }
   ],
   "source": [
    "# Train\n",
    "losshistory, trainstate = model.train(iterations=iterations, callbacks = [variable])"
   ]
  },
  {
   "cell_type": "code",
   "execution_count": 78,
   "metadata": {},
   "outputs": [
    {
     "name": "stdout",
     "output_type": "stream",
     "text": [
      "Compiling model...\n",
      "'compile' took 0.000473 s\n",
      "\n",
      "Training model...\n",
      "\n",
      "Step      Train loss                                                                Test loss                                                                 Test metric\n",
      "20000     [7.65e-01, 1.05e-01, 1.88e-01, 1.82e-01, 1.02e-01, 1.30e-01, 8.56e-01]    [1.30e+01, 1.05e-01, 1.88e-01, 1.82e-01, 1.02e-01, 1.30e-01, 8.56e-01]    []  \n",
      "\n",
      "Best model at step 20000:\n",
      "  train loss: 2.33e+00\n",
      "  test loss: 1.46e+01\n",
      "  test metric: []\n",
      "\n",
      "'train' took 0.056100 s\n",
      "\n"
     ]
    }
   ],
   "source": [
    "# Finish training with different optimizer\n",
    "model.compile(\"L-BFGS-B\")\n",
    "losshistory, train_state = model.train(iterations=iterations, batch_size=batch_size)"
   ]
  },
  {
   "cell_type": "code",
   "execution_count": 79,
   "metadata": {},
   "outputs": [
    {
     "data": {
      "image/png": "[encoded data removed]",
      "text/plain": [
       "<Figure size 640x480 with 1 Axes>"
      ]
     },
     "metadata": {},
     "output_type": "display_data"
    }
   ],
   "source": [
    "# Save training plot\n",
    "dde.saveplot(losshistory, trainstate, issave=False, isplot=True)"
   ]
  },
  {
   "cell_type": "code",
   "execution_count": 80,
   "metadata": {},
   "outputs": [
    {
     "name": "stdout",
     "output_type": "stream",
     "text": [
      "tensor(-2.7522, device='cuda:0', requires_grad=True)\n"
     ]
    }
   ],
   "source": [
    "print(c_lambda)"
   ]
  }
 ],
 "metadata": {
  "kernelspec": {
   "display_name": "Python 3",
   "language": "python",
   "name": "python3"
  },
  "language_info": {
   "codemirror_mode": {
    "name": "ipython",
    "version": 3
   },
   "file_extension": ".py",
   "mimetype": "text/x-python",
   "name": "python",
   "nbconvert_exporter": "python",
   "pygments_lexer": "ipython3",
   "version": "3.12.9"
  }
 },
 "nbformat": 4,
 "nbformat_minor": 2
}
