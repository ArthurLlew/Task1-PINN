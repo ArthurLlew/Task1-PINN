{
 "cells": [
  {
   "cell_type": "markdown",
   "metadata": {},
   "source": [
    "# **<span style=\"color:red\">Imports</span>**"
   ]
  },
  {
   "cell_type": "code",
   "execution_count": 1,
   "metadata": {},
   "outputs": [
    {
     "name": "stderr",
     "output_type": "stream",
     "text": [
      "Using backend: pytorch\n",
      "Other supported backends: tensorflow.compat.v1, tensorflow, jax, paddle.\n",
      "paddle supports more examples now and is recommended.\n"
     ]
    }
   ],
   "source": [
    "# Math\n",
    "import math\n",
    "\n",
    "# Handy arrays\n",
    "import numpy as np\n",
    "\n",
    "# DeepXDE\n",
    "import deepxde as dde\n",
    "import torch"
   ]
  },
  {
   "cell_type": "markdown",
   "metadata": {},
   "source": [
    "# <span style=\"color:red\">**Постановка**</span>"
   ]
  },
  {
   "cell_type": "markdown",
   "metadata": {},
   "source": [
    "<div>\n",
    "<img src=\"var-07.png\" width=\"600\"/>\n",
    "</div>"
   ]
  },
  {
   "cell_type": "markdown",
   "metadata": {},
   "source": [
    "# <span style=\"color:red\">**PINN**</span>"
   ]
  },
  {
   "cell_type": "markdown",
   "metadata": {},
   "source": [
    "## <span style=\"color:orange\">**Init**</span>"
   ]
  },
  {
   "cell_type": "markdown",
   "metadata": {},
   "source": [
    "### <span>**Функция вычисления невязок**</span>"
   ]
  },
  {
   "cell_type": "code",
   "execution_count": 2,
   "metadata": {},
   "outputs": [],
   "source": [
    "def pde(domain: torch.Tensor, u: torch.Tensor) -> torch.Tensor:\n",
    "    # d^2 u\n",
    "    # -----\n",
    "    # dx ^2\n",
    "    du_xx = dde.grad.hessian(u, domain, i=0, j=0)\n",
    "\n",
    "    # d^2 u\n",
    "    # -----\n",
    "    # dy ^2\n",
    "    du_yy = dde.grad.hessian(u, domain, i=1, j=1)\n",
    "\n",
    "    # du/dt\n",
    "    du_t = dde.grad.jacobian(u, domain, j=2)\n",
    "\n",
    "    # Equation\n",
    "    return ((du_t - 2.3 * (du_xx + du_yy))\n",
    "            - 2.5586 * torch.exp(-0.7 * domain[:, 2:3]) * torch.sin(0.9 * domain[:, 0:1])\n",
    "            - 13.5616 * torch.exp(-0.7 * domain[:, 2:3]) * torch.cos(2.2 * domain[:, 1:2]))"
   ]
  },
  {
   "cell_type": "markdown",
   "metadata": {},
   "source": [
    "### <span>**Геометрия**</span>"
   ]
  },
  {
   "cell_type": "code",
   "execution_count": 3,
   "metadata": {},
   "outputs": [],
   "source": [
    "# Boundaries\n",
    "x_left, x_right = 0, math.pi\n",
    "y_down, y_up = -math.pi, math.pi\n",
    "T0, T1 = 0, 1\n",
    "\n",
    "# X & Y geomentry (rectangle)\n",
    "geometry = dde.geometry.Rectangle(xmin=[x_left, y_down], xmax=[x_right, y_up])\n",
    "# Time segment [0, 1]\n",
    "time_domain = dde.geometry.TimeDomain(T0, T1)\n",
    "# Final domain\n",
    "domain = dde.geometry.GeometryXTime(geometry, time_domain)"
   ]
  },
  {
   "cell_type": "markdown",
   "metadata": {},
   "source": [
    "### <span>**Функции принадлежности точки границе**</span>"
   ]
  },
  {
   "cell_type": "code",
   "execution_count": 4,
   "metadata": {},
   "outputs": [],
   "source": [
    "# Left boundary\n",
    "def l_boundary(domain, on_boundary):\n",
    "    return on_boundary and dde.utils.isclose(domain[0], x_left)"
   ]
  },
  {
   "cell_type": "code",
   "execution_count": 5,
   "metadata": {},
   "outputs": [],
   "source": [
    "# Right boundary\n",
    "def r_boundary(domain, on_boundary):\n",
    "    return on_boundary and dde.utils.isclose(domain[0], x_right)"
   ]
  },
  {
   "cell_type": "code",
   "execution_count": 6,
   "metadata": {},
   "outputs": [],
   "source": [
    "# Up boundary\n",
    "def up_boundary(domain, on_boundary):\n",
    "    return on_boundary and dde.utils.isclose(domain[1], y_up)"
   ]
  },
  {
   "cell_type": "code",
   "execution_count": 7,
   "metadata": {},
   "outputs": [],
   "source": [
    "# Down boundary\n",
    "def down_boundary(domain, on_boundary):\n",
    "    return on_boundary and dde.utils.isclose(domain[1], y_down)"
   ]
  },
  {
   "cell_type": "code",
   "execution_count": 8,
   "metadata": {},
   "outputs": [],
   "source": [
    "# Initial boundary\n",
    "def initial_boundary(domain, on_initial):\n",
    "    return on_initial and dde.utils.isclose(domain[2], T0)"
   ]
  },
  {
   "cell_type": "markdown",
   "metadata": {},
   "source": [
    "### <span>**Граничные и начальные условия**</span>"
   ]
  },
  {
   "cell_type": "code",
   "execution_count": 9,
   "metadata": {},
   "outputs": [],
   "source": [
    "# Boundary condition left\n",
    "def bc_l_func(domain):\n",
    "    if (isinstance(domain, torch.Tensor)):\n",
    "        t = domain[:, 2:3]\n",
    "    # Convert to numpy array to CUDA tensor\n",
    "    else:\n",
    "        t = torch.from_numpy(domain[:, 2:3]).to(device=\"cuda\")\n",
    "\n",
    "    return - 1.98 * torch.exp(-0.7 * t)\n",
    "\n",
    "bc_l = dde.NeumannBC(domain, bc_l_func, l_boundary)"
   ]
  },
  {
   "cell_type": "code",
   "execution_count": 10,
   "metadata": {},
   "outputs": [],
   "source": [
    "# Boundary condition right\n",
    "def bc_r_func(domain):\n",
    "    if (isinstance(domain, torch.Tensor)):\n",
    "        y = domain[:, 1:2]\n",
    "        t = domain[:, 2:3]\n",
    "    # Convert to numpy array to CUDA tensor\n",
    "    else:\n",
    "        y = torch.from_numpy(domain[:, 1:2]).to(device=\"cuda\")\n",
    "        t = torch.from_numpy(domain[:, 2:3]).to(device=\"cuda\")\n",
    "\n",
    "    return 1.3 + 1.3 * torch.exp(-0.7 * t) * torch.cos(2.2 * y) - 0.55 * (1 - math.sqrt(5)) * torch.exp(-0.7 * t)\n",
    "\n",
    "bc_r = dde.DirichletBC(domain, bc_r_func, r_boundary)"
   ]
  },
  {
   "cell_type": "code",
   "execution_count": 11,
   "metadata": {},
   "outputs": [],
   "source": [
    "# Boundary condition up\n",
    "def bc_up_func(domain):\n",
    "    if (isinstance(domain, torch.Tensor)):\n",
    "        t = domain[:, 2:3]\n",
    "    # Convert to numpy array to CUDA tensor\n",
    "    else:\n",
    "        t = torch.from_numpy(domain[:, 2:3]).to(device=\"cuda\")\n",
    "        \n",
    "    return - 2.86 * math.sqrt(0.625 - math.sqrt(5)/8) * torch.exp(-0.7 * t)\n",
    "\n",
    "bc_up = dde.NeumannBC(domain, bc_up_func, up_boundary)"
   ]
  },
  {
   "cell_type": "code",
   "execution_count": 12,
   "metadata": {},
   "outputs": [],
   "source": [
    "# Boundary condition down\n",
    "def bc_down_func(domain):\n",
    "    if (isinstance(domain, torch.Tensor)):\n",
    "        x = domain[:, 0:1]\n",
    "        t = domain[:, 2:3]\n",
    "    # Convert to numpy array to CUDA tensor\n",
    "    else:\n",
    "        x = torch.from_numpy(domain[:, 0:1]).to(device=\"cuda\")\n",
    "        t = torch.from_numpy(domain[:, 2:3]).to(device=\"cuda\")\n",
    "\n",
    "    return 1.3 + 2.2 * torch.exp(-0.7 * t) * torch.sin(0.9 * x) + 0.875 * (1 + math.sqrt(5)) * torch.exp(-0.7 * t)\n",
    "\n",
    "bc_down = dde.DirichletBC(domain, bc_down_func, down_boundary)"
   ]
  },
  {
   "cell_type": "code",
   "execution_count": 87,
   "metadata": {},
   "outputs": [],
   "source": [
    "# Constant to train\n",
    "# Initial values: -5.0, 5.0, 6.5\n",
    "c_lambda = dde.Variable(5.0)"
   ]
  },
  {
   "cell_type": "code",
   "execution_count": 88,
   "metadata": {},
   "outputs": [],
   "source": [
    "# Initial condition\n",
    "def ic_func(domain):\n",
    "    if (isinstance(domain, torch.Tensor)):\n",
    "        x = domain[:, 0:1]\n",
    "        y = domain[:, 1:2]\n",
    "    # Convert to numpy array to CUDA tensor\n",
    "    else:\n",
    "        x = torch.from_numpy(domain[:, 0:1]).to(device=\"cuda\")\n",
    "        y = torch.from_numpy(domain[:, 1:2]).to(device=\"cuda\")\n",
    "\n",
    "    return c_lambda + 2.2 * torch.sin(0.9 * x) + 1.3 * torch.cos(2.2 * y)\n",
    "\n",
    "ic = dde.IC(domain, ic_func, initial_boundary)"
   ]
  },
  {
   "cell_type": "code",
   "execution_count": 89,
   "metadata": {},
   "outputs": [],
   "source": [
    "# Observed data\n",
    "data = np.load('var-07.npz')\n",
    "ob_domain = data['xyt']\n",
    "ob_u = data['u']\n",
    "observed_u = dde.icbc.PointSetBC(ob_domain, ob_u, component=0)"
   ]
  },
  {
   "cell_type": "markdown",
   "metadata": {},
   "source": [
    "### <span>**Система уравнений**</span>"
   ]
  },
  {
   "cell_type": "code",
   "execution_count": 90,
   "metadata": {},
   "outputs": [
    {
     "name": "stdout",
     "output_type": "stream",
     "text": [
      "Warning: 244 points required, but 276 points sampled.\n",
      "Warning: 3000 points required, but 3588 points sampled.\n"
     ]
    }
   ],
   "source": [
    "data = dde.data.TimePDE(domain, pde, [bc_l, bc_r, bc_up, bc_down, ic, observed_u],\n",
    "                        num_domain=3000, num_boundary=1000, num_initial=2000,\n",
    "                        anchors=ob_domain,\n",
    "                        num_test=3000)"
   ]
  },
  {
   "cell_type": "markdown",
   "metadata": {},
   "source": [
    "### <span>**Нейронная сеть**</span>"
   ]
  },
  {
   "cell_type": "code",
   "execution_count": 91,
   "metadata": {},
   "outputs": [],
   "source": [
    "layer_size = [3] + [50] * 5 + [1]\n",
    "net = dde.maps.FNN(layer_size, \"tanh\", \"Glorot uniform\")"
   ]
  },
  {
   "cell_type": "markdown",
   "metadata": {},
   "source": [
    "### <span>**Обёртка нейронной сети**</span>"
   ]
  },
  {
   "cell_type": "code",
   "execution_count": 92,
   "metadata": {},
   "outputs": [
    {
     "name": "stdout",
     "output_type": "stream",
     "text": [
      "Compiling model...\n",
      "'compile' took 0.000235 s\n",
      "\n"
     ]
    }
   ],
   "source": [
    "# Init and compile model\n",
    "model = dde.Model(data, net)\n",
    "model.compile(\"adam\", lr=1e-3, external_trainable_variables=[c_lambda])"
   ]
  },
  {
   "cell_type": "code",
   "execution_count": null,
   "metadata": {},
   "outputs": [],
   "source": [
    "# Callbacks\n",
    "variable = dde.callbacks.VariableValue(c_lambda, period=2000)\n",
    "pde_resampler = dde.callbacks.PDEPointResampler(period=600)"
   ]
  },
  {
   "cell_type": "code",
   "execution_count": 94,
   "metadata": {},
   "outputs": [
    {
     "name": "stdout",
     "output_type": "stream",
     "text": [
      "Training model...\n",
      "\n",
      "Warning: Rectangle boundary_normal called on vertices. You may use PDE(..., exclusions=...) to exclude the vertices.\n",
      "Warning: Rectangle boundary_normal called on vertices. You may use PDE(..., exclusions=...) to exclude the vertices.\n",
      "Step      Train loss                                                                Test loss                                                                 Test metric\n",
      "0         [3.06e+01, 1.30e+00, 3.11e+00, 1.11e+00, 1.61e+01, 4.30e+01, 4.96e+00]    [5.30e+01, 1.30e+00, 3.11e+00, 1.11e+00, 1.61e+01, 4.30e+01, 4.96e+00]    []  \n",
      "0 [5.00e+00]\n",
      "Warning: Rectangle boundary_normal called on vertices. You may use PDE(..., exclusions=...) to exclude the vertices.\n",
      "Warning: Rectangle boundary_normal called on vertices. You may use PDE(..., exclusions=...) to exclude the vertices.\n",
      "1000      [2.54e-01, 2.29e-02, 1.49e-01, 9.20e-03, 4.43e-02, 1.42e-01, 8.12e-02]    [4.54e+00, 2.29e-02, 1.49e-01, 9.20e-03, 4.43e-02, 1.42e-01, 8.12e-02]    []  \n",
      "Warning: Rectangle boundary_normal called on vertices. You may use PDE(..., exclusions=...) to exclude the vertices.\n",
      "Warning: Rectangle boundary_normal called on vertices. You may use PDE(..., exclusions=...) to exclude the vertices.\n",
      "2000      [1.88e-01, 1.46e-02, 9.49e-02, 5.48e-03, 2.94e-02, 7.54e-02, 6.46e-02]    [3.98e+00, 1.46e-02, 9.49e-02, 5.48e-03, 2.94e-02, 7.54e-02, 6.46e-02]    []  \n",
      "2000 [4.47e+00]\n",
      "Warning: Rectangle boundary_normal called on vertices. You may use PDE(..., exclusions=...) to exclude the vertices.\n",
      "Warning: Rectangle boundary_normal called on vertices. You may use PDE(..., exclusions=...) to exclude the vertices.\n",
      "Warning: Rectangle boundary_normal called on vertices. You may use PDE(..., exclusions=...) to exclude the vertices.\n",
      "Warning: Rectangle boundary_normal called on vertices. You may use PDE(..., exclusions=...) to exclude the vertices.\n",
      "3000      [1.41e-01, 1.12e-02, 6.28e-02, 4.03e-03, 2.17e-02, 4.65e-02, 5.68e-02]    [3.13e+00, 1.12e-02, 6.28e-02, 4.03e-03, 2.17e-02, 4.65e-02, 5.68e-02]    []  \n",
      "4000      [2.03e-01, 1.62e-02, 7.89e-02, 5.83e-03, 3.15e-02, 6.67e-02, 5.72e-02]    [4.59e+00, 1.62e-02, 7.89e-02, 5.83e-03, 3.15e-02, 6.67e-02, 5.72e-02]    []  \n",
      "4000 [3.74e+00]\n",
      "Warning: Rectangle boundary_normal called on vertices. You may use PDE(..., exclusions=...) to exclude the vertices.\n",
      "Warning: Rectangle boundary_normal called on vertices. You may use PDE(..., exclusions=...) to exclude the vertices.\n",
      "Warning: Rectangle boundary_normal called on vertices. You may use PDE(..., exclusions=...) to exclude the vertices.\n",
      "Warning: Rectangle boundary_normal called on vertices. You may use PDE(..., exclusions=...) to exclude the vertices.\n",
      "5000      [7.55e-02, 6.15e-03, 2.95e-02, 2.19e-03, 1.46e-02, 1.75e-02, 4.67e-02]    [1.73e+00, 6.15e-03, 2.95e-02, 2.19e-03, 1.46e-02, 1.75e-02, 4.67e-02]    []  \n",
      "6000      [1.92e-01, 1.65e-02, 6.80e-02, 5.32e-03, 2.90e-02, 5.47e-02, 5.96e-02]    [4.46e+00, 1.65e-02, 6.80e-02, 5.32e-03, 2.90e-02, 5.47e-02, 5.96e-02]    []  \n",
      "6000 [2.70e+00]\n",
      "Warning: Rectangle boundary_normal called on vertices. You may use PDE(..., exclusions=...) to exclude the vertices.\n",
      "Warning: Rectangle boundary_normal called on vertices. You may use PDE(..., exclusions=...) to exclude the vertices.\n",
      "7000      [3.85e-02, 2.90e-03, 2.35e-02, 1.29e-03, 1.60e-02, 1.41e-02, 4.35e-02]    [7.95e-01, 2.90e-03, 2.35e-02, 1.29e-03, 1.60e-02, 1.41e-02, 4.35e-02]    []  \n",
      "8000      [1.37e-01, 1.15e-02, 6.24e-02, 4.18e-03, 1.91e-02, 3.95e-02, 5.31e-02]    [3.11e+00, 1.15e-02, 6.24e-02, 4.18e-03, 1.91e-02, 3.95e-02, 5.31e-02]    []  \n",
      "8000 [1.68e+00]\n",
      "Warning: Rectangle boundary_normal called on vertices. You may use PDE(..., exclusions=...) to exclude the vertices.\n",
      "Warning: Rectangle boundary_normal called on vertices. You may use PDE(..., exclusions=...) to exclude the vertices.\n",
      "9000      [1.71e-02, 1.43e-03, 1.10e-02, 9.73e-04, 2.95e-02, 1.72e-02, 4.08e-02]    [2.67e-01, 1.43e-03, 1.10e-02, 9.73e-04, 2.95e-02, 1.72e-02, 4.08e-02]    []  \n",
      "Warning: Rectangle boundary_normal called on vertices. You may use PDE(..., exclusions=...) to exclude the vertices.\n",
      "Warning: Rectangle boundary_normal called on vertices. You may use PDE(..., exclusions=...) to exclude the vertices.\n",
      "10000     [1.68e-02, 1.59e-03, 1.05e-02, 1.39e-03, 2.83e-02, 1.46e-02, 3.92e-02]    [2.94e-01, 1.59e-03, 1.05e-02, 1.39e-03, 2.83e-02, 1.46e-02, 3.92e-02]    []  \n",
      "10000 [1.49e+00]\n",
      "11000     [2.23e-02, 1.34e-03, 1.06e-02, 6.64e-03, 2.11e-02, 9.79e-03, 4.03e-02]    [2.61e-01, 1.34e-03, 1.06e-02, 6.64e-03, 2.11e-02, 9.79e-03, 4.03e-02]    []  \n",
      "12000     [1.90e-02, 1.86e-03, 9.80e-03, 1.72e-03, 3.10e-02, 1.42e-02, 3.84e-02]    [3.08e-01, 1.86e-03, 9.80e-03, 1.72e-03, 3.10e-02, 1.42e-02, 3.84e-02]    []  \n",
      "12000 [1.22e+00]\n",
      "13000     [3.37e-02, 3.18e-03, 1.53e-02, 1.15e-03, 1.19e-02, 6.60e-03, 3.89e-02]    [7.70e-01, 3.18e-03, 1.53e-02, 1.15e-03, 1.19e-02, 6.60e-03, 3.89e-02]    []  \n",
      "14000     [1.60e-02, 5.81e-02, 3.12e-02, 2.86e-02, 2.03e-01, 3.57e-03, 5.56e-02]    [2.70e-01, 5.81e-02, 3.12e-02, 2.86e-02, 2.03e-01, 3.57e-03, 5.56e-02]    []  \n",
      "14000 [1.08e+00]\n",
      "Warning: Rectangle boundary_normal called on vertices. You may use PDE(..., exclusions=...) to exclude the vertices.\n",
      "Warning: Rectangle boundary_normal called on vertices. You may use PDE(..., exclusions=...) to exclude the vertices.\n",
      "Warning: Rectangle boundary_normal called on vertices. You may use PDE(..., exclusions=...) to exclude the vertices.\n",
      "Warning: Rectangle boundary_normal called on vertices. You may use PDE(..., exclusions=...) to exclude the vertices.\n",
      "15000     [1.36e-02, 1.08e-03, 6.56e-03, 9.35e-04, 1.95e-02, 5.87e-03, 3.52e-02]    [2.69e-01, 1.08e-03, 6.56e-03, 9.35e-04, 1.95e-02, 5.87e-03, 3.52e-02]    []  \n",
      "Warning: Rectangle boundary_normal called on vertices. You may use PDE(..., exclusions=...) to exclude the vertices.\n",
      "Warning: Rectangle boundary_normal called on vertices. You may use PDE(..., exclusions=...) to exclude the vertices.\n",
      "16000     [1.28e-02, 1.19e-03, 5.93e-03, 7.20e-04, 1.72e-02, 4.60e-03, 3.38e-02]    [2.60e-01, 1.19e-03, 5.93e-03, 7.20e-04, 1.72e-02, 4.60e-03, 3.38e-02]    []  \n",
      "16000 [1.44e+00]\n",
      "17000     [2.29e-02, 5.14e-02, 3.14e-02, 2.88e-02, 1.99e-01, 4.40e-03, 5.38e-02]    [3.78e-01, 5.14e-02, 3.14e-02, 2.88e-02, 1.99e-01, 4.40e-03, 5.38e-02]    []  \n",
      "Warning: Rectangle boundary_normal called on vertices. You may use PDE(..., exclusions=...) to exclude the vertices.\n",
      "Warning: Rectangle boundary_normal called on vertices. You may use PDE(..., exclusions=...) to exclude the vertices.\n",
      "18000     [1.22e-02, 1.64e-03, 5.86e-03, 8.87e-04, 1.62e-02, 5.27e-03, 3.36e-02]    [2.49e-01, 1.64e-03, 5.86e-03, 8.87e-04, 1.62e-02, 5.27e-03, 3.36e-02]    []  \n",
      "18000 [1.46e+00]\n",
      "Warning: Rectangle boundary_normal called on vertices. You may use PDE(..., exclusions=...) to exclude the vertices.\n",
      "Warning: Rectangle boundary_normal called on vertices. You may use PDE(..., exclusions=...) to exclude the vertices.\n",
      "19000     [1.40e-02, 2.05e-03, 7.37e-03, 1.34e-03, 1.83e-02, 7.07e-03, 3.52e-02]    [2.67e-01, 2.05e-03, 7.37e-03, 1.34e-03, 1.83e-02, 7.07e-03, 3.52e-02]    []  \n",
      "Warning: Rectangle boundary_normal called on vertices. You may use PDE(..., exclusions=...) to exclude the vertices.\n",
      "Warning: Rectangle boundary_normal called on vertices. You may use PDE(..., exclusions=...) to exclude the vertices.\n",
      "20000     [1.28e-02, 1.65e-03, 4.99e-03, 7.35e-04, 1.35e-02, 3.54e-03, 3.18e-02]    [2.81e-01, 1.65e-03, 4.99e-03, 7.35e-04, 1.35e-02, 3.54e-03, 3.18e-02]    []  \n",
      "20000 [1.43e+00]\n",
      "\n",
      "Best model at step 20000:\n",
      "  train loss: 6.90e-02\n",
      "  test loss: 3.37e-01\n",
      "  test metric: []\n",
      "\n",
      "'train' took 2021.212695 s\n",
      "\n"
     ]
    }
   ],
   "source": [
    "# Train\n",
    "losshistory, trainstate = model.train(iterations=20000, callbacks = [pde_resampler, variable])"
   ]
  },
  {
   "cell_type": "code",
   "execution_count": 95,
   "metadata": {},
   "outputs": [
    {
     "name": "stdout",
     "output_type": "stream",
     "text": [
      "Compiling model...\n",
      "'compile' took 0.000990 s\n",
      "\n",
      "Training model...\n",
      "\n",
      "Step      Train loss                                                                Test loss                                                                 Test metric\n",
      "20000     [1.28e-02, 1.65e-03, 4.99e-03, 7.35e-04, 1.35e-02, 3.54e-03, 3.18e-02]    [2.81e-01, 1.65e-03, 4.99e-03, 7.35e-04, 1.35e-02, 3.54e-03, 3.18e-02]    []  \n",
      "20000 [1.43e+00]\n",
      "\n",
      "Best model at step 20000:\n",
      "  train loss: 6.90e-02\n",
      "  test loss: 3.37e-01\n",
      "  test metric: []\n",
      "\n",
      "'train' took 0.049794 s\n",
      "\n"
     ]
    }
   ],
   "source": [
    "# Finish training with different optimizer\n",
    "model.compile(\"L-BFGS-B\")\n",
    "losshistory, train_state = model.train(callbacks = [pde_resampler, variable])"
   ]
  },
  {
   "cell_type": "code",
   "execution_count": 96,
   "metadata": {},
   "outputs": [
    {
     "data": {
      "image/png": "[encoded data removed]",
      "text/plain": [
       "<Figure size 640x480 with 1 Axes>"
      ]
     },
     "metadata": {},
     "output_type": "display_data"
    }
   ],
   "source": [
    "# Save training plot\n",
    "dde.saveplot(losshistory, trainstate, issave=False, isplot=True)"
   ]
  },
  {
   "cell_type": "code",
   "execution_count": 97,
   "metadata": {},
   "outputs": [
    {
     "name": "stdout",
     "output_type": "stream",
     "text": [
      "tensor(1.4296, device='cuda:0', requires_grad=True)\n"
     ]
    }
   ],
   "source": [
    "print(c_lambda)"
   ]
  }
 ],
 "metadata": {
  "kernelspec": {
   "display_name": "Python 3",
   "language": "python",
   "name": "python3"
  },
  "language_info": {
   "codemirror_mode": {
    "name": "ipython",
    "version": 3
   },
   "file_extension": ".py",
   "mimetype": "text/x-python",
   "name": "python",
   "nbconvert_exporter": "python",
   "pygments_lexer": "ipython3",
   "version": "3.12.9"
  }
 },
 "nbformat": 4,
 "nbformat_minor": 2
}
